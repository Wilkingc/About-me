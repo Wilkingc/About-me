{
  "nbformat": 4,
  "nbformat_minor": 0,
  "metadata": {
    "colab": {
      "provenance": [],
      "authorship_tag": "ABX9TyMZLowCeFOgJW05gEmhHRBp",
      "include_colab_link": true
    },
    "kernelspec": {
      "name": "python3",
      "display_name": "Python 3"
    },
    "language_info": {
      "name": "python"
    }
  },
  "cells": [
    {
      "cell_type": "markdown",
      "metadata": {
        "id": "view-in-github",
        "colab_type": "text"
      },
      "source": [
        "<a href=\"https://colab.research.google.com/github/Wilkingc/About-me/blob/main/About_me.ipynb\" target=\"_parent\"><img src=\"https://colab.research.google.com/assets/colab-badge.svg\" alt=\"Open In Colab\"/></a>"
      ]
    },
    {
      "cell_type": "markdown",
      "source": [
        "\n",
        "#About me\n"
      ],
      "metadata": {
        "id": "_O-eqY393utb"
      }
    },
    {
      "cell_type": "markdown",
      "source": [
        " My name is Wilking Chali Alphonse but you can call me Wil!\n",
        "\n",
        " My pronouns are he, him."
      ],
      "metadata": {
        "id": "d3goMwvs3-Yg"
      }
    },
    {
      "cell_type": "markdown",
      "source": [
        " #### Why did you sign up for this bootcamp?\n",
        "\n",
        "\n",
        "I am a huge data enthusias, pasionate about gaining insight from data and being able to apply it in a real life setting and solve relevant issues.\n",
        "\n",
        "The Data Science bootcamp from Deep Dive was the best place to work towards these goals."
      ],
      "metadata": {
        "id": "G138Fy9m4can"
      }
    },
    {
      "cell_type": "markdown",
      "source": [
        "#### If you had your human body, but the head of an animal, what animal would you pick?\n",
        "It will need to be tiger."
      ],
      "metadata": {
        "id": "GZIdfcc65pMp"
      }
    },
    {
      "cell_type": "markdown",
      "source": [
        "#### If you had to delete all but 3 apps from your smartphone, which ones would you keep?\n",
        "- My main bank app\n",
        "- Gmail\n",
        "- Imessage"
      ],
      "metadata": {
        "id": "rYDpDy8Z6J4d"
      }
    },
    {
      "cell_type": "markdown",
      "source": [
        "#### What are your favorite podcasts?\n",
        "\n",
        "Podcast| Host | Link\n",
        "- | - | -\n",
        "The Joe Rogan Experience | Joe Rogan | [The Joe Rogan Experience](https://open.spotify.com/show/4rOoJ6Egrf8K2IrywzwOMk)\n",
        "What now? | Trevor Noah | [What Now?](https://open.spotify.com/show/122imavATqSE7eCyXIcqZL)\n",
        "Arrested DevOps | Multiple Hosts |[Arrested DevOps](https://www.arresteddevops.com/)"
      ],
      "metadata": {
        "id": "bUdGt25T7HSP"
      }
    },
    {
      "cell_type": "markdown",
      "source": [
        "#### What sports/hobbies do you enjoy and why?\n",
        "\n",
        "  - I love playing the bass guitar.\n",
        "  - Road trips.\n",
        "  - Try different food.\n",
        "\n",
        "  * My favorite sports are:\n",
        "      1. Football\n",
        "      1. Baseball\n",
        "      1. Basketball"
      ],
      "metadata": {
        "id": "YoEWEohU7oEz"
      }
    },
    {
      "cell_type": "markdown",
      "source": [
        "#### Anything else you want to share - be creative and have fun!\n",
        "\n",
        "One time i was on a connecting fly through St. Lucia and i was wearing cammo pants which is extremely forbiden in that country!!! to make the story short they made me take my pants off and i already had sent my suitcase to pick it up at my last destination.\n",
        "\n",
        "**You all can imagine the rest!** 🤦"
      ],
      "metadata": {
        "id": "4fjqevYE8Bhn"
      }
    },
    {
      "cell_type": "markdown",
      "source": [
        "![My favorite Bass](https://www.davesguitar.com/cdn/shop/files/R130772-5_7f581edd-9f54-48a3-af66-c519e3465e48.jpg?v=1719611094&width=1800)"
      ],
      "metadata": {
        "id": "C2rxv3Yi_lAR"
      }
    },
    {
      "cell_type": "markdown",
      "source": [],
      "metadata": {
        "id": "GuW1m329LW7C"
      }
    }
  ]
}