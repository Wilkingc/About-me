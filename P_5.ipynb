{
  "nbformat": 4,
  "nbformat_minor": 0,
  "metadata": {
    "colab": {
      "provenance": [],
      "toc_visible": true,
      "authorship_tag": "ABX9TyNAUI9nyVL73/bepgplr6BJ",
      "include_colab_link": true
    },
    "kernelspec": {
      "name": "python3",
      "display_name": "Python 3"
    },
    "language_info": {
      "name": "python"
    }
  },
  "cells": [
    {
      "cell_type": "markdown",
      "metadata": {
        "id": "view-in-github",
        "colab_type": "text"
      },
      "source": [
        "<a href=\"https://colab.research.google.com/github/Wilkingc/About-me/blob/main/P_5.ipynb\" target=\"_parent\"><img src=\"https://colab.research.google.com/assets/colab-badge.svg\" alt=\"Open In Colab\"/></a>"
      ]
    },
    {
      "cell_type": "markdown",
      "source": [
        "## Problem definition\n",
        "\n",
        "This project consist in two parts:\n",
        "\n",
        "First)\n",
        "- The file contains a list of famous people and a brief overview.\n",
        "- The goal of part 1) is provide the capability to\n",
        "- Take one person from the list as input and output the 10 other people who's overview are \"closest\" to the person in a Natural Language Processing sense\n",
        "- Also output the sentiment of the overview of the person.\n",
        "\n",
        "2 Second)\n",
        "- For the same person from step 1), use the Wikipedia API to access the whole content of that person's Wikipedia page.\n",
        "- The goal of part 2) is to produce the capability to:\n",
        "  1. For that Wikipedia page determine the sentiment of the entire page\n",
        "  1. Print out the Wikipedia article\n",
        "  1. Collect the Wikipedia pages from the 10 nearest neighbors in Step 1)\n",
        "  1. Determine the nearness ranking of these 10 to your main subject based on their entire Wikipedia page\n",
        "  1. Compare the nearest ranking from Step 1) with the Wikipedia page nearness ranking\n"
      ],
      "metadata": {
        "id": "ZULAhZa5kabB"
      }
    },
    {
      "cell_type": "markdown",
      "source": [
        "## Imports"
      ],
      "metadata": {
        "id": "cErJT4HkERG1"
      }
    },
    {
      "cell_type": "code",
      "execution_count": 1,
      "metadata": {
        "colab": {
          "base_uri": "https://localhost:8080/"
        },
        "id": "BxYQFP4tELIb",
        "outputId": "59b0d15c-8092-4d04-dccc-4294df490029"
      },
      "outputs": [
        {
          "output_type": "stream",
          "name": "stderr",
          "text": [
            "[nltk_data] Downloading package omw-1.4 to /root/nltk_data...\n",
            "[nltk_data] Downloading package wordnet to /root/nltk_data...\n",
            "[nltk_data] Downloading package punkt to /root/nltk_data...\n",
            "[nltk_data]   Unzipping tokenizers/punkt.zip.\n"
          ]
        },
        {
          "output_type": "execute_result",
          "data": {
            "text/plain": [
              "True"
            ]
          },
          "metadata": {},
          "execution_count": 1
        }
      ],
      "source": [
        "import numpy as np\n",
        "import pandas as pd\n",
        "from textblob import TextBlob\n",
        "from sklearn.feature_extraction.text import CountVectorizer\n",
        "from sklearn.feature_extraction.text import TfidfVectorizer\n",
        "from sklearn.feature_extraction.text import TfidfTransformer\n",
        "from sklearn.neighbors import NearestNeighbors\n",
        "import random\n",
        "import re\n",
        "import nltk\n",
        "nltk.download('omw-1.4')\n",
        "import nltk\n",
        "from nltk.stem import WordNetLemmatizer\n",
        "nltk.download('wordnet')\n",
        "nltk.download('punkt')"
      ]
    },
    {
      "cell_type": "code",
      "source": [
        "! python -m textblob.download_corpora"
      ],
      "metadata": {
        "colab": {
          "base_uri": "https://localhost:8080/"
        },
        "id": "Rf2m0B6UEajo",
        "outputId": "a0b8473a-2574-4148-e44b-5e26be25ca6c"
      },
      "execution_count": 2,
      "outputs": [
        {
          "output_type": "stream",
          "name": "stdout",
          "text": [
            "[nltk_data] Downloading package brown to /root/nltk_data...\n",
            "[nltk_data]   Unzipping corpora/brown.zip.\n",
            "[nltk_data] Downloading package punkt to /root/nltk_data...\n",
            "[nltk_data]   Package punkt is already up-to-date!\n",
            "[nltk_data] Downloading package wordnet to /root/nltk_data...\n",
            "[nltk_data]   Package wordnet is already up-to-date!\n",
            "[nltk_data] Downloading package averaged_perceptron_tagger to\n",
            "[nltk_data]     /root/nltk_data...\n",
            "[nltk_data]   Unzipping taggers/averaged_perceptron_tagger.zip.\n",
            "[nltk_data] Downloading package conll2000 to /root/nltk_data...\n",
            "[nltk_data]   Unzipping corpora/conll2000.zip.\n",
            "[nltk_data] Downloading package movie_reviews to /root/nltk_data...\n",
            "[nltk_data]   Unzipping corpora/movie_reviews.zip.\n",
            "Finished.\n"
          ]
        }
      ]
    },
    {
      "cell_type": "markdown",
      "source": [
        "## File path & read data"
      ],
      "metadata": {
        "id": "gVQsDxdimxMt"
      }
    },
    {
      "cell_type": "code",
      "source": [
        "url = 'https://ddc-datascience.s3.amazonaws.com/Projects/Project.5-NLP/Data/NLP.csv'\n",
        "data1 = pd.read_csv(url)\n",
        "data1.head()"
      ],
      "metadata": {
        "colab": {
          "base_uri": "https://localhost:8080/",
          "height": 206
        },
        "id": "X8RnnSdOEf3W",
        "outputId": "f3c8f70b-ba68-4ded-c711-2376c17bbcf3"
      },
      "execution_count": 3,
      "outputs": [
        {
          "output_type": "execute_result",
          "data": {
            "text/plain": [
              "                                                 URI                 name  \\\n",
              "0        <http://dbpedia.org/resource/Digby_Morrell>        Digby Morrell   \n",
              "1       <http://dbpedia.org/resource/Alfred_J._Lewy>       Alfred J. Lewy   \n",
              "2        <http://dbpedia.org/resource/Harpdog_Brown>        Harpdog Brown   \n",
              "3  <http://dbpedia.org/resource/Franz_Rottensteiner>  Franz Rottensteiner   \n",
              "4               <http://dbpedia.org/resource/G-Enka>               G-Enka   \n",
              "\n",
              "                                                text  \n",
              "0  digby morrell born 10 october 1979 is a former...  \n",
              "1  alfred j lewy aka sandy lewy graduated from un...  \n",
              "2  harpdog brown is a singer and harmonica player...  \n",
              "3  franz rottensteiner born in waidmannsfeld lowe...  \n",
              "4  henry krvits born 30 december 1974 in tallinn ...  "
            ],
            "text/html": [
              "\n",
              "  <div id=\"df-27c779ad-b91e-42a8-8b63-964fbe59b6a2\" class=\"colab-df-container\">\n",
              "    <div>\n",
              "<style scoped>\n",
              "    .dataframe tbody tr th:only-of-type {\n",
              "        vertical-align: middle;\n",
              "    }\n",
              "\n",
              "    .dataframe tbody tr th {\n",
              "        vertical-align: top;\n",
              "    }\n",
              "\n",
              "    .dataframe thead th {\n",
              "        text-align: right;\n",
              "    }\n",
              "</style>\n",
              "<table border=\"1\" class=\"dataframe\">\n",
              "  <thead>\n",
              "    <tr style=\"text-align: right;\">\n",
              "      <th></th>\n",
              "      <th>URI</th>\n",
              "      <th>name</th>\n",
              "      <th>text</th>\n",
              "    </tr>\n",
              "  </thead>\n",
              "  <tbody>\n",
              "    <tr>\n",
              "      <th>0</th>\n",
              "      <td>&lt;http://dbpedia.org/resource/Digby_Morrell&gt;</td>\n",
              "      <td>Digby Morrell</td>\n",
              "      <td>digby morrell born 10 october 1979 is a former...</td>\n",
              "    </tr>\n",
              "    <tr>\n",
              "      <th>1</th>\n",
              "      <td>&lt;http://dbpedia.org/resource/Alfred_J._Lewy&gt;</td>\n",
              "      <td>Alfred J. Lewy</td>\n",
              "      <td>alfred j lewy aka sandy lewy graduated from un...</td>\n",
              "    </tr>\n",
              "    <tr>\n",
              "      <th>2</th>\n",
              "      <td>&lt;http://dbpedia.org/resource/Harpdog_Brown&gt;</td>\n",
              "      <td>Harpdog Brown</td>\n",
              "      <td>harpdog brown is a singer and harmonica player...</td>\n",
              "    </tr>\n",
              "    <tr>\n",
              "      <th>3</th>\n",
              "      <td>&lt;http://dbpedia.org/resource/Franz_Rottensteiner&gt;</td>\n",
              "      <td>Franz Rottensteiner</td>\n",
              "      <td>franz rottensteiner born in waidmannsfeld lowe...</td>\n",
              "    </tr>\n",
              "    <tr>\n",
              "      <th>4</th>\n",
              "      <td>&lt;http://dbpedia.org/resource/G-Enka&gt;</td>\n",
              "      <td>G-Enka</td>\n",
              "      <td>henry krvits born 30 december 1974 in tallinn ...</td>\n",
              "    </tr>\n",
              "  </tbody>\n",
              "</table>\n",
              "</div>\n",
              "    <div class=\"colab-df-buttons\">\n",
              "\n",
              "  <div class=\"colab-df-container\">\n",
              "    <button class=\"colab-df-convert\" onclick=\"convertToInteractive('df-27c779ad-b91e-42a8-8b63-964fbe59b6a2')\"\n",
              "            title=\"Convert this dataframe to an interactive table.\"\n",
              "            style=\"display:none;\">\n",
              "\n",
              "  <svg xmlns=\"http://www.w3.org/2000/svg\" height=\"24px\" viewBox=\"0 -960 960 960\">\n",
              "    <path d=\"M120-120v-720h720v720H120Zm60-500h600v-160H180v160Zm220 220h160v-160H400v160Zm0 220h160v-160H400v160ZM180-400h160v-160H180v160Zm440 0h160v-160H620v160ZM180-180h160v-160H180v160Zm440 0h160v-160H620v160Z\"/>\n",
              "  </svg>\n",
              "    </button>\n",
              "\n",
              "  <style>\n",
              "    .colab-df-container {\n",
              "      display:flex;\n",
              "      gap: 12px;\n",
              "    }\n",
              "\n",
              "    .colab-df-convert {\n",
              "      background-color: #E8F0FE;\n",
              "      border: none;\n",
              "      border-radius: 50%;\n",
              "      cursor: pointer;\n",
              "      display: none;\n",
              "      fill: #1967D2;\n",
              "      height: 32px;\n",
              "      padding: 0 0 0 0;\n",
              "      width: 32px;\n",
              "    }\n",
              "\n",
              "    .colab-df-convert:hover {\n",
              "      background-color: #E2EBFA;\n",
              "      box-shadow: 0px 1px 2px rgba(60, 64, 67, 0.3), 0px 1px 3px 1px rgba(60, 64, 67, 0.15);\n",
              "      fill: #174EA6;\n",
              "    }\n",
              "\n",
              "    .colab-df-buttons div {\n",
              "      margin-bottom: 4px;\n",
              "    }\n",
              "\n",
              "    [theme=dark] .colab-df-convert {\n",
              "      background-color: #3B4455;\n",
              "      fill: #D2E3FC;\n",
              "    }\n",
              "\n",
              "    [theme=dark] .colab-df-convert:hover {\n",
              "      background-color: #434B5C;\n",
              "      box-shadow: 0px 1px 3px 1px rgba(0, 0, 0, 0.15);\n",
              "      filter: drop-shadow(0px 1px 2px rgba(0, 0, 0, 0.3));\n",
              "      fill: #FFFFFF;\n",
              "    }\n",
              "  </style>\n",
              "\n",
              "    <script>\n",
              "      const buttonEl =\n",
              "        document.querySelector('#df-27c779ad-b91e-42a8-8b63-964fbe59b6a2 button.colab-df-convert');\n",
              "      buttonEl.style.display =\n",
              "        google.colab.kernel.accessAllowed ? 'block' : 'none';\n",
              "\n",
              "      async function convertToInteractive(key) {\n",
              "        const element = document.querySelector('#df-27c779ad-b91e-42a8-8b63-964fbe59b6a2');\n",
              "        const dataTable =\n",
              "          await google.colab.kernel.invokeFunction('convertToInteractive',\n",
              "                                                    [key], {});\n",
              "        if (!dataTable) return;\n",
              "\n",
              "        const docLinkHtml = 'Like what you see? Visit the ' +\n",
              "          '<a target=\"_blank\" href=https://colab.research.google.com/notebooks/data_table.ipynb>data table notebook</a>'\n",
              "          + ' to learn more about interactive tables.';\n",
              "        element.innerHTML = '';\n",
              "        dataTable['output_type'] = 'display_data';\n",
              "        await google.colab.output.renderOutput(dataTable, element);\n",
              "        const docLink = document.createElement('div');\n",
              "        docLink.innerHTML = docLinkHtml;\n",
              "        element.appendChild(docLink);\n",
              "      }\n",
              "    </script>\n",
              "  </div>\n",
              "\n",
              "\n",
              "<div id=\"df-b1b4fdeb-7b86-49cc-8d4e-aac7b8509864\">\n",
              "  <button class=\"colab-df-quickchart\" onclick=\"quickchart('df-b1b4fdeb-7b86-49cc-8d4e-aac7b8509864')\"\n",
              "            title=\"Suggest charts\"\n",
              "            style=\"display:none;\">\n",
              "\n",
              "<svg xmlns=\"http://www.w3.org/2000/svg\" height=\"24px\"viewBox=\"0 0 24 24\"\n",
              "     width=\"24px\">\n",
              "    <g>\n",
              "        <path d=\"M19 3H5c-1.1 0-2 .9-2 2v14c0 1.1.9 2 2 2h14c1.1 0 2-.9 2-2V5c0-1.1-.9-2-2-2zM9 17H7v-7h2v7zm4 0h-2V7h2v10zm4 0h-2v-4h2v4z\"/>\n",
              "    </g>\n",
              "</svg>\n",
              "  </button>\n",
              "\n",
              "<style>\n",
              "  .colab-df-quickchart {\n",
              "      --bg-color: #E8F0FE;\n",
              "      --fill-color: #1967D2;\n",
              "      --hover-bg-color: #E2EBFA;\n",
              "      --hover-fill-color: #174EA6;\n",
              "      --disabled-fill-color: #AAA;\n",
              "      --disabled-bg-color: #DDD;\n",
              "  }\n",
              "\n",
              "  [theme=dark] .colab-df-quickchart {\n",
              "      --bg-color: #3B4455;\n",
              "      --fill-color: #D2E3FC;\n",
              "      --hover-bg-color: #434B5C;\n",
              "      --hover-fill-color: #FFFFFF;\n",
              "      --disabled-bg-color: #3B4455;\n",
              "      --disabled-fill-color: #666;\n",
              "  }\n",
              "\n",
              "  .colab-df-quickchart {\n",
              "    background-color: var(--bg-color);\n",
              "    border: none;\n",
              "    border-radius: 50%;\n",
              "    cursor: pointer;\n",
              "    display: none;\n",
              "    fill: var(--fill-color);\n",
              "    height: 32px;\n",
              "    padding: 0;\n",
              "    width: 32px;\n",
              "  }\n",
              "\n",
              "  .colab-df-quickchart:hover {\n",
              "    background-color: var(--hover-bg-color);\n",
              "    box-shadow: 0 1px 2px rgba(60, 64, 67, 0.3), 0 1px 3px 1px rgba(60, 64, 67, 0.15);\n",
              "    fill: var(--button-hover-fill-color);\n",
              "  }\n",
              "\n",
              "  .colab-df-quickchart-complete:disabled,\n",
              "  .colab-df-quickchart-complete:disabled:hover {\n",
              "    background-color: var(--disabled-bg-color);\n",
              "    fill: var(--disabled-fill-color);\n",
              "    box-shadow: none;\n",
              "  }\n",
              "\n",
              "  .colab-df-spinner {\n",
              "    border: 2px solid var(--fill-color);\n",
              "    border-color: transparent;\n",
              "    border-bottom-color: var(--fill-color);\n",
              "    animation:\n",
              "      spin 1s steps(1) infinite;\n",
              "  }\n",
              "\n",
              "  @keyframes spin {\n",
              "    0% {\n",
              "      border-color: transparent;\n",
              "      border-bottom-color: var(--fill-color);\n",
              "      border-left-color: var(--fill-color);\n",
              "    }\n",
              "    20% {\n",
              "      border-color: transparent;\n",
              "      border-left-color: var(--fill-color);\n",
              "      border-top-color: var(--fill-color);\n",
              "    }\n",
              "    30% {\n",
              "      border-color: transparent;\n",
              "      border-left-color: var(--fill-color);\n",
              "      border-top-color: var(--fill-color);\n",
              "      border-right-color: var(--fill-color);\n",
              "    }\n",
              "    40% {\n",
              "      border-color: transparent;\n",
              "      border-right-color: var(--fill-color);\n",
              "      border-top-color: var(--fill-color);\n",
              "    }\n",
              "    60% {\n",
              "      border-color: transparent;\n",
              "      border-right-color: var(--fill-color);\n",
              "    }\n",
              "    80% {\n",
              "      border-color: transparent;\n",
              "      border-right-color: var(--fill-color);\n",
              "      border-bottom-color: var(--fill-color);\n",
              "    }\n",
              "    90% {\n",
              "      border-color: transparent;\n",
              "      border-bottom-color: var(--fill-color);\n",
              "    }\n",
              "  }\n",
              "</style>\n",
              "\n",
              "  <script>\n",
              "    async function quickchart(key) {\n",
              "      const quickchartButtonEl =\n",
              "        document.querySelector('#' + key + ' button');\n",
              "      quickchartButtonEl.disabled = true;  // To prevent multiple clicks.\n",
              "      quickchartButtonEl.classList.add('colab-df-spinner');\n",
              "      try {\n",
              "        const charts = await google.colab.kernel.invokeFunction(\n",
              "            'suggestCharts', [key], {});\n",
              "      } catch (error) {\n",
              "        console.error('Error during call to suggestCharts:', error);\n",
              "      }\n",
              "      quickchartButtonEl.classList.remove('colab-df-spinner');\n",
              "      quickchartButtonEl.classList.add('colab-df-quickchart-complete');\n",
              "    }\n",
              "    (() => {\n",
              "      let quickchartButtonEl =\n",
              "        document.querySelector('#df-b1b4fdeb-7b86-49cc-8d4e-aac7b8509864 button');\n",
              "      quickchartButtonEl.style.display =\n",
              "        google.colab.kernel.accessAllowed ? 'block' : 'none';\n",
              "    })();\n",
              "  </script>\n",
              "</div>\n",
              "\n",
              "    </div>\n",
              "  </div>\n"
            ],
            "application/vnd.google.colaboratory.intrinsic+json": {
              "type": "dataframe",
              "variable_name": "data1",
              "summary": "{\n  \"name\": \"data1\",\n  \"rows\": 42786,\n  \"fields\": [\n    {\n      \"column\": \"URI\",\n      \"properties\": {\n        \"dtype\": \"string\",\n        \"num_unique_values\": 42786,\n        \"samples\": [\n          \"<http://dbpedia.org/resource/Tom_Bancroft>\",\n          \"<http://dbpedia.org/resource/Bart_Zeller>\",\n          \"<http://dbpedia.org/resource/Caitlin_Morrall>\"\n        ],\n        \"semantic_type\": \"\",\n        \"description\": \"\"\n      }\n    },\n    {\n      \"column\": \"name\",\n      \"properties\": {\n        \"dtype\": \"string\",\n        \"num_unique_values\": 42785,\n        \"samples\": [\n          \"Tom Bancroft\",\n          \"James Holt (scholar)\",\n          \"Chen Tze-chung\"\n        ],\n        \"semantic_type\": \"\",\n        \"description\": \"\"\n      }\n    },\n    {\n      \"column\": \"text\",\n      \"properties\": {\n        \"dtype\": \"string\",\n        \"num_unique_values\": 42786,\n        \"samples\": [\n          \"tom bancroft born 1967 london is a british jazz drummer and composer he began drumming aged seven and started off playing jazz with his father and identical twin brother phil after studying medicine at cambridge university he spent a year studying composition and arranging at mcgill university in montreal canada qualifying as a doctor in 1992 he then worked as a jazz musician and composer supporting his music income with locum work as a hospital doctor until 1998 when he began starting music related companies he is married to singer gina rae and has two children sam and sophie in 2004 he received the creative scotland awardin 1998 he launched caber music with support from the national lottery fund which went on to release over thirty cds over the next seven years to critical acclaim including two bbc jazz awards for best cd and numerous album of the year placings he has subsequently started the company abc creative music with his twin brother phil bancroft which develops creative music education resources which are now being used in more than 500 schools in scotlandas a drummer he has studied with jo morello joey baron and andrew cyrille and played with many musicians including sun ra joakim milder charlie mariano hamiett bluiett liane carroll oliver lake george colligan david berkman tommy smith julian argelles emil vicklicky martin taylor sheila jordan shooglenifty karen mathieson reid anderson billy jenkins bill wells geri allen mr mcfalls chamber and martyn bennetthe is currently the drummer with the dave milligan trio the chick lyall trio and kevin mackenzies vital signs the laura macdonald quartet and octet and plays in an improvising duo with the italian guitarist enzo roccohe is drummer and coleader of trio aab whose first album cold fusion was named an album of 1999 by bbc radio 3 and whose second album wherever i lay my home thats my hat was an album of 2001 in the guardian and picked in a list of 100 essential all time jazz albums by mojo magazine in 2001 they also released stranger things happen at c in 2002 reactivated in 2011 trio aab performed at the delhi jazz festivalas a band leader and composer he has led orchestro interrupto formerly the tom bancroft orchestra a contemporary jazz big band producing the album pieology in 1998 many festival performances a uk tour and a live concert broadcast on bbc radio 3 in 2004 the band toured the uk with geri allen and the tour was broadcast on bbc radio 3 and received five star reviews in the guardian and the scotsman and was voted jazz gig of the year in manchesters city limits and londons time out magazines orchestri interrupto released a cd in 2009 of the music from the geri allen tour with chick lyall on piano entitled the ballad of linda crawford bancroft has also composed for smaller groups including the orange ear ensemble octet and kilt couture a collaboration with french group arfi in 2006 he launched the new tom bancroft 6 pack as well as a spinoff childrens focussed band from the orchestra called kidsamonium which premiered at the gateshead international jazz festival at the sage gateshead and also at the cheltenham jazz festival in 2006 and went on to perform all over europebancrofts compositions have been used in radio film dance television and theatre he has been commissioned by bbc scotland bbc radio 3 glasgow international jazz festival assembly direct birmingham jazz and the national youth jazz orchestra of scotland he has danced in played and composed music for life on the planets surface with kelsey michael and a case for a picnic pt2 tracing houdini and hoops hats acrobats with the choreographer ruby worthhe has led many large scale community and education projects including 150 primary school children performing at the london jazz festival 200 at perth concert hall with classical percussionist colin currie and 100 parents grandparents and children playing drums and percussion at the big stix project at the gateshead jazz festivalbancroft is an active teacher and educator from private drum students to teaching composition and leading big bands he is an apple distinguished educator he has always been active in setting up new ways to promote jazz and improvisation he curated a series of mini festivals for uk and european musicians inside the glasgow jazz festival in the 1990s called clandemonium and europhonium he was active in setting up the scottish jazz federationin 2010 he was musical director of major dance show off kilter which played in major venues across scotland toured scotland with the dave milligan trio and premiered the band of eden malefemale big band to critical acclaimin late 2010 in his role at abc creative music bancroft launched the website abc creative music online to allow scottish schools to teach creative music by smartboard\",\n          \"barton wallace zeller born july 22 1941 is a former professional baseball catcher he played one game in major league baseball in 1970 for the st louis cardinals he recently served as manager of the joliet slammers of the frontier league but was released on september 10 2012zeller was signed by the cardinals in 1963 and spent four years in the cardinals farm system after missing the 1967 season he spent 1968 and 1969 with the lewiston broncs and arkansas travelers respectively zeller played in his only major league game on may 21 1970 against the philadelphia phillies he was inserted to catch the bottom of the ninth inning zeller never had a plate appearance but was credited with one put out on billy mccools strikeout of jim hutto zeller batted and threw righthanded his jersey number was 29 at the time of play he was 6 ft 1 in tall and weighed 185 lbzeller was released as an active player by the cardinals on june 8 but stayed on as a coach for the balance of the 1970 season he played in the minors in 1971 in the milwaukee brewers and new york yankees organizationszeller was the hitting coachthird base coach for the southern illinois miners of the frontier league an independent baseball league zeller began working for the miners in their inaugural 2007 season before coming to the miners zeller spent two seasons with the sioux falls canaries as a bench coach zeller was named as the first manager of slammers in january 2011zeller is currently managing the washington wild things of the frontier league\",\n          \"caitlin shea morrall machol born may 2 1983 is a beauty queen from burlington wisconsin who competed in the 2008 miss usa pageantmorrall who had previously competed in the miss wisconsin america system won the miss wisconsin usa 2007 title in the state pageant held at richland center on 2 september 2006 she competed in the nationally televised miss usa 2007 pageant which was broadcast live from the kodak theatre in hollywood california on march 23 2007 where she placed in top 15 this was the best finish by a contestant from wisconsin in 28 yearsin june 2006 morrall placed first runnerup in the miss wisconsin competition where she competed as miss burlington area chocolatefest she had previously placed 3rd runnerup in 2004 1st runnerup in 2003 and 2nd runnerup in 2002 morrall has held other local titles such as miss racine in 2002 miss milwaukee in 2003 and miss southern wisconsin in 2004 despite being eligible to compete in the miss america system for one more year morrall made the decision to compete in the miss wisconsin usa pageant one week before applications for the pageant closedmorrall is a 2001 graduate of burlington high school wisconsin and is a 2008 graduate of alverno college in milwaukee with a bachelor of arts degree in professional communicationcaitlin is currently the traffic reporter in the morning for wtmjtv 4\"\n        ],\n        \"semantic_type\": \"\",\n        \"description\": \"\"\n      }\n    }\n  ]\n}"
            }
          },
          "metadata": {},
          "execution_count": 3
        }
      ]
    },
    {
      "cell_type": "markdown",
      "source": [
        "## Part 1"
      ],
      "metadata": {
        "id": "xggD1QsqEfM6"
      }
    },
    {
      "cell_type": "markdown",
      "source": [
        "## Data Cleaning"
      ],
      "metadata": {
        "id": "_bblL_b-Et3k"
      }
    },
    {
      "cell_type": "code",
      "source": [
        "data_copy = data1.copy() #Let's make a copy of the dataset\n",
        "df = data_copy.sample(frac=0.1).reset_index() #reseting the index for manipulation porpuses"
      ],
      "metadata": {
        "id": "wAxLRfOFEpde"
      },
      "execution_count": 4,
      "outputs": []
    },
    {
      "cell_type": "code",
      "source": [
        "def process_data (text):\n",
        "  '''\n",
        "  This function will take a value and apply the lower case method, remove white spaces and characters and convert the text to TextBlob\n",
        "  '''\n",
        "  text = text.lower()\n",
        "  text = re.sub(r\"[^\\w\\s]\", \"\", text)\n",
        "  text = TextBlob(text)\n",
        "\n",
        "  return text"
      ],
      "metadata": {
        "id": "bm-ejgN8E264"
      },
      "execution_count": 5,
      "outputs": []
    },
    {
      "cell_type": "code",
      "source": [
        "df['text'] = df['text'].apply(process_data) # Apply the function to our dataset"
      ],
      "metadata": {
        "id": "2pLZrmhxE8vi",
        "collapsed": true
      },
      "execution_count": 6,
      "outputs": []
    },
    {
      "cell_type": "code",
      "source": [
        "df['text'].loc[1]  # Display some data to make sure the function cleaned the data"
      ],
      "metadata": {
        "colab": {
          "base_uri": "https://localhost:8080/"
        },
        "id": "fBsrPMqPFH9e",
        "outputId": "3dffd52a-846c-46f0-afd5-0687fa01f714",
        "collapsed": true
      },
      "execution_count": 8,
      "outputs": [
        {
          "output_type": "execute_result",
          "data": {
            "text/plain": [
              "TextBlob(\"alan ling sie kiong chinese pinyin ln s jin born 19 february 1983 in sibu sarawak is a malaysian lawyer and politician he is currently holding office of dap sarawak secretary he spent his childhood in nanga medamit limbang sarawak where his parents started their first business venture by operating a small grocery shops next to a river in the rural area ling received his primary education in srb chung hua limbang north school miri and secondary school in smk st joseph miri he is a christianling graduated from the university of sheffield with a bachelor of laws honours degree he is an advocate solicitor of the high court in malaya and high court in sabah and sarawakling became the partner of an established law firm suhaili ling advocates in miri at the age of 27besides legal qualification he is a licensed auctioneer company secretary and also actively involved in business field even during his university time during his stay in united kingdom he was the president of kpum malaysian law students union in uk for the term 20142015at the of 25 he successfully obtained license from bank negara malaysia to operate remittance business in partnership with western union it is one of the pioneers of nonbank remittance operator in malaysialing also involved in various businesses like plantations money services business property investment etcling only joined dap in 2011 and is the current elected honourable member of the sarawak state legislative assembly for piasau he won the seat at the age of 28 by upsetting the then sarawak deputy chief minister cum sarawak united peoples party president tan sri dr george chan hong nam in the 2011 state election he defeated chan by a 1590vote majorityling is a charismatic young politician and has been widely known for his excellent oratory skill down to earth approach and dedication towards his constituents he has a community centre within his constituency to provide services to the people he has been appointed honourablelegal advisor to a few associations in miri\")"
            ]
          },
          "metadata": {},
          "execution_count": 8
        }
      ]
    },
    {
      "cell_type": "code",
      "source": [
        "def singularize_text(text):\n",
        "  '''\n",
        "  This function lemmatize by splitting the data and returns a join version of it to mantain integrity\n",
        "  '''\n",
        "\n",
        "  lemmatizer = WordNetLemmatizer()\n",
        "  words = text.split()  # Split the text into words\n",
        "  singularized_words = [lemmatizer.lemmatize(word) for word in words]\n",
        "\n",
        "  return ' '.join(singularized_words)"
      ],
      "metadata": {
        "id": "Q55DRikFFIYl"
      },
      "execution_count": 51,
      "outputs": []
    },
    {
      "cell_type": "code",
      "source": [
        "df['text'] = df['text'].apply(singularize_text)"
      ],
      "metadata": {
        "id": "vrxGGrlJFPDl"
      },
      "execution_count": 10,
      "outputs": []
    },
    {
      "cell_type": "markdown",
      "source": [
        "### Bag of words"
      ],
      "metadata": {
        "id": "uT57I8OhFTIq"
      }
    },
    {
      "cell_type": "code",
      "source": [
        "vectorizer = CountVectorizer(stop_words='english') # Transfor the text into a bag of words\n",
        "bow = vectorizer.fit_transform(df[\"text\"])\n",
        "bow = bow.toarray() # Tranform the result to a numpy array"
      ],
      "metadata": {
        "id": "KYw7Pzx5FUrF"
      },
      "execution_count": 11,
      "outputs": []
    },
    {
      "cell_type": "markdown",
      "source": [
        "### TF-IDF"
      ],
      "metadata": {
        "id": "nzhj9DrB3_Yg"
      }
    },
    {
      "cell_type": "code",
      "source": [
        "# Perform the TF-IDF transformation - (CountVectorizer + TfidfTransformer)\n",
        "tf_idf_tran = TfidfTransformer()\n",
        "tf_idf = tf_idf_tran.fit_transform(bow)\n",
        "tf_idf = tf_idf.toarray()\n",
        "tf_idf"
      ],
      "metadata": {
        "colab": {
          "base_uri": "https://localhost:8080/"
        },
        "id": "1BwlCtJq6-zg",
        "outputId": "9fc3ecc3-1084-4dc5-e855-865daee0eb6d"
      },
      "execution_count": 12,
      "outputs": [
        {
          "output_type": "execute_result",
          "data": {
            "text/plain": [
              "array([[0., 0., 0., ..., 0., 0., 0.],\n",
              "       [0., 0., 0., ..., 0., 0., 0.],\n",
              "       [0., 0., 0., ..., 0., 0., 0.],\n",
              "       ...,\n",
              "       [0., 0., 0., ..., 0., 0., 0.],\n",
              "       [0., 0., 0., ..., 0., 0., 0.],\n",
              "       [0., 0., 0., ..., 0., 0., 0.]])"
            ]
          },
          "metadata": {},
          "execution_count": 12
        }
      ]
    },
    {
      "cell_type": "markdown",
      "source": [
        "### K- Nearest Neighbor"
      ],
      "metadata": {
        "id": "t77Ea_Ks9AFF"
      }
    },
    {
      "cell_type": "code",
      "source": [
        "random.seed(10) #Random seed to mantain consistency in the output\n",
        "random_index = random.randint(0, len(df) - 1) # Creating a random output of our dataset to index later for a name.\n",
        "random_person = df.iloc[random_index]['name'] # Selecting randomly a person from our dataset using the random index variable.\n",
        "random_index, random_person"
      ],
      "metadata": {
        "id": "UVSY5hkgczBS",
        "colab": {
          "base_uri": "https://localhost:8080/"
        },
        "outputId": "1e5ba94a-8a5b-4724-d0bb-078959207e66"
      },
      "execution_count": 13,
      "outputs": [
        {
          "output_type": "execute_result",
          "data": {
            "text/plain": [
              "(266, 'Marya Martin')"
            ]
          },
          "metadata": {},
          "execution_count": 13
        }
      ]
    },
    {
      "cell_type": "code",
      "source": [
        "# Perform the TF-IDF transformation - (CountVectorizer + TfidfTransformer)\n",
        "tf_idf_tran = TfidfTransformer()\n",
        "tf_idf = tf_idf_tran.fit_transform(bow)\n",
        "tf_idf = tf_idf.toarray()\n",
        "tf_idf\n"
      ],
      "metadata": {
        "colab": {
          "base_uri": "https://localhost:8080/"
        },
        "id": "tIPf2NiR6-w7",
        "outputId": "2840d96c-96bb-488b-cb1c-eeb5140dfff4"
      },
      "execution_count": 14,
      "outputs": [
        {
          "output_type": "execute_result",
          "data": {
            "text/plain": [
              "array([[0., 0., 0., ..., 0., 0., 0.],\n",
              "       [0., 0., 0., ..., 0., 0., 0.],\n",
              "       [0., 0., 0., ..., 0., 0., 0.],\n",
              "       ...,\n",
              "       [0., 0., 0., ..., 0., 0., 0.],\n",
              "       [0., 0., 0., ..., 0., 0., 0.],\n",
              "       [0., 0., 0., ..., 0., 0., 0.]])"
            ]
          },
          "metadata": {},
          "execution_count": 14
        }
      ]
    },
    {
      "cell_type": "code",
      "source": [
        "sent0 = np.array([tf_idf[random_index]]) # Creating the reference matrix\n",
        "sent0.shape"
      ],
      "metadata": {
        "colab": {
          "base_uri": "https://localhost:8080/"
        },
        "id": "vHp4OgeFAY4R",
        "outputId": "a6c7c7e3-bb20-46cd-f480-f0c898635663"
      },
      "execution_count": 15,
      "outputs": [
        {
          "output_type": "execute_result",
          "data": {
            "text/plain": [
              "(1, 84936)"
            ]
          },
          "metadata": {},
          "execution_count": 15
        }
      ]
    },
    {
      "cell_type": "code",
      "source": [
        "kn = NearestNeighbors().fit(tf_idf) # Fitting the df_idf matrix to Nearest Neighbor"
      ],
      "metadata": {
        "id": "b1yqtLz5UGYS"
      },
      "execution_count": 16,
      "outputs": []
    },
    {
      "cell_type": "code",
      "source": [
        "distances, indices = kn.kneighbors(\n",
        "  X = sent0,\n",
        "  n_neighbors = 11, #Selecting a K of 11 to ourput the 10 closest values in our dataset\n",
        ")\n"
      ],
      "metadata": {
        "id": "mbHt8IR66-uR"
      },
      "execution_count": 17,
      "outputs": []
    },
    {
      "cell_type": "code",
      "source": [
        "distances # Display the distance"
      ],
      "metadata": {
        "colab": {
          "base_uri": "https://localhost:8080/"
        },
        "id": "rCaLFM_9IJaH",
        "outputId": "cf264d61-d387-4ddc-d1e2-0924b08286be"
      },
      "execution_count": 18,
      "outputs": [
        {
          "output_type": "execute_result",
          "data": {
            "text/plain": [
              "array([[0.        , 1.20012961, 1.20355055, 1.21317026, 1.21488492,\n",
              "        1.24856663, 1.24914118, 1.2528284 , 1.25389802, 1.26453273,\n",
              "        1.26577384]])"
            ]
          },
          "metadata": {},
          "execution_count": 18
        }
      ]
    },
    {
      "cell_type": "code",
      "source": [
        "# Using list comprehension to display names of closest person\n",
        "group_of_p = [ x for i,x in enumerate(df['name']) if i in indices[0] ]\n",
        "group_of_p"
      ],
      "metadata": {
        "colab": {
          "base_uri": "https://localhost:8080/"
        },
        "id": "vOzFjaVnIda1",
        "outputId": "4dccc21d-3fbf-4134-b44f-e804aa4373b8"
      },
      "execution_count": 19,
      "outputs": [
        {
          "output_type": "execute_result",
          "data": {
            "text/plain": [
              "['Marya Martin',\n",
              " 'Trey Lee Chui-yee',\n",
              " 'Alec Chien',\n",
              " 'Kathryn Selby',\n",
              " 'Clark Ross',\n",
              " 'Sophia Yan',\n",
              " 'Paul Hostetter',\n",
              " 'Jeffrey Milarsky',\n",
              " 'Yoko Misumi',\n",
              " 'Joseph Twist',\n",
              " 'Chan Ka Nin']"
            ]
          },
          "metadata": {},
          "execution_count": 19
        }
      ]
    },
    {
      "cell_type": "markdown",
      "source": [
        "### Sentiment of the overview of the person selected"
      ],
      "metadata": {
        "id": "rJDARci0WYCc"
      }
    },
    {
      "cell_type": "code",
      "source": [
        "[ i for i,x in enumerate(df['text']) if i in indices[0] ] # Taking a look at the indices"
      ],
      "metadata": {
        "colab": {
          "base_uri": "https://localhost:8080/"
        },
        "id": "KT9iiIO6IdYW",
        "outputId": "b5ab8716-d4e3-4b12-c091-5cd624f077f1"
      },
      "execution_count": 20,
      "outputs": [
        {
          "output_type": "execute_result",
          "data": {
            "text/plain": [
              "[266, 484, 594, 1080, 1459, 1805, 1836, 2739, 2899, 3617, 4019]"
            ]
          },
          "metadata": {},
          "execution_count": 20
        }
      ]
    },
    {
      "cell_type": "code",
      "source": [
        "# np.array(df['text'])[indices]"
      ],
      "metadata": {
        "id": "oULZ4nWNJRON",
        "collapsed": true
      },
      "execution_count": 21,
      "outputs": []
    },
    {
      "cell_type": "code",
      "source": [
        "count = 0 # Starting a counter to give our output an index\n",
        "for index in indices[0]: # Looping to find the Sentiment of each individual\n",
        "  text = df.iloc[index]['text']\n",
        "  blob = TextBlob(text)\n",
        "  sentiment_score = blob.sentiment\n",
        "  count += 1\n",
        "  print(f\" {count} Person sentiment scores are {sentiment_score}\")"
      ],
      "metadata": {
        "colab": {
          "base_uri": "https://localhost:8080/"
        },
        "id": "ZyQ3ksoCY_lW",
        "outputId": "b96665b8-478c-4a74-bb67-0892dfe3a6ed"
      },
      "execution_count": 49,
      "outputs": [
        {
          "output_type": "stream",
          "name": "stdout",
          "text": [
            " 1 Person sentiment scores are Sentiment(polarity=0.14822180134680138, subjectivity=0.3522516835016835)\n",
            " 2 Person sentiment scores are Sentiment(polarity=0.08060146923783286, subjectivity=0.3457759412304866)\n",
            " 3 Person sentiment scores are Sentiment(polarity=0.07588126159554731, subjectivity=0.2563955885384457)\n",
            " 4 Person sentiment scores are Sentiment(polarity=0.15024891774891772, subjectivity=0.41317099567099563)\n",
            " 5 Person sentiment scores are Sentiment(polarity=0.13716690716690716, subjectivity=0.29245297911964574)\n",
            " 6 Person sentiment scores are Sentiment(polarity=0.030176767676767673, subjectivity=0.3515151515151515)\n",
            " 7 Person sentiment scores are Sentiment(polarity=0.12024410774410772, subjectivity=0.26578282828282823)\n",
            " 8 Person sentiment scores are Sentiment(polarity=0.09627840909090911, subjectivity=0.33225815850815854)\n",
            " 9 Person sentiment scores are Sentiment(polarity=0.14750967117988392, subjectivity=0.3323823339780787)\n",
            " 10 Person sentiment scores are Sentiment(polarity=0.2303030303030303, subjectivity=0.4121212121212121)\n",
            " 11 Person sentiment scores are Sentiment(polarity=0.2181144781144781, subjectivity=0.2734680134680134)\n"
          ]
        }
      ]
    },
    {
      "cell_type": "markdown",
      "source": [
        "# Part 2 -  Using Wikipedia API"
      ],
      "metadata": {
        "id": "jQWAvTxkfbTV"
      }
    },
    {
      "cell_type": "code",
      "source": [
        "%%capture output\n",
        "#install Wikipedia API\n",
        "!pip3 install wikipedia-api"
      ],
      "metadata": {
        "id": "mDkX1mVYVUSl"
      },
      "execution_count": 23,
      "outputs": []
    },
    {
      "cell_type": "code",
      "source": [
        "import wikipediaapi"
      ],
      "metadata": {
        "id": "mpSRqhzhU0zW"
      },
      "execution_count": 24,
      "outputs": []
    },
    {
      "cell_type": "code",
      "source": [
        "np.array(df['URI'])[indices]"
      ],
      "metadata": {
        "colab": {
          "base_uri": "https://localhost:8080/"
        },
        "collapsed": true,
        "id": "sXOoKq8qgSQk",
        "outputId": "aa952d6a-a8ae-4cb8-a906-0884e4d2257c"
      },
      "execution_count": 25,
      "outputs": [
        {
          "output_type": "execute_result",
          "data": {
            "text/plain": [
              "array([['<http://dbpedia.org/resource/Marya_Martin>',\n",
              "        '<http://dbpedia.org/resource/Sophia_Yan>',\n",
              "        '<http://dbpedia.org/resource/Kathryn_Selby>',\n",
              "        '<http://dbpedia.org/resource/Paul_Hostetter>',\n",
              "        '<http://dbpedia.org/resource/Yoko_Misumi>',\n",
              "        '<http://dbpedia.org/resource/Alec_Chien>',\n",
              "        '<http://dbpedia.org/resource/Joseph_Twist>',\n",
              "        '<http://dbpedia.org/resource/Jeffrey_Milarsky>',\n",
              "        '<http://dbpedia.org/resource/Trey_Lee_Chui-yee>',\n",
              "        '<http://dbpedia.org/resource/Clark_Ross>',\n",
              "        '<http://dbpedia.org/resource/Chan_Ka_Nin>']], dtype=object)"
            ]
          },
          "metadata": {},
          "execution_count": 25
        }
      ]
    },
    {
      "cell_type": "code",
      "source": [
        "topic = random_person\n",
        "wikipedia = wikipediaapi.Wikipedia(user_agent = 'salcocho')\n",
        "page_ex = wikipedia.page(topic)\n",
        "wiki_text = page_ex.text\n",
        "wiki_text"
      ],
      "metadata": {
        "collapsed": true,
        "id": "Ik66gt9odnqo",
        "colab": {
          "base_uri": "https://localhost:8080/",
          "height": 105
        },
        "outputId": "96b01b90-866f-45ed-cdc6-c4b7a0f96661"
      },
      "execution_count": 26,
      "outputs": [
        {
          "output_type": "execute_result",
          "data": {
            "text/plain": [
              "\"Marya Martin is an American flautist, soloist, recitalist, and chamber musician.\\nBorn Mary Martin in New Zealand, Martin studied at the University of Auckland, where she had lessons with Richard Giese, then principal flute in the New Zealand Symphony Orchestra. After graduating in 1976, Martin was awarded a Queen Elizabeth II Arts Council grant to study at Yale University. In 1979, Martin graduated from Yale with a master's degree in flute performance.  She shortly thereafter won the 1979 Young Concert Artists International Auditions. She went on to win top prizes in the Naumburg Competition, the Munich International Competition, the Jean-Pierre Rampal International Competition, and the Concert Artists Guild—all within a two-year period. To date, Martin is the only flutist to take top prizes in all of these major competitions. In 1980, Martin made her New York concert debut. Following these successes, Martin moved to Paris to study with Jean-Pierre Rampal at the Nationale Superieur Conservatoire de Paris and then later with Sir James Galway in Lucerne, Switzerland.\\nIn 1984, she founded the Bridgehampton Chamber Music Festival which, under her artistic direction, has done much to foster the development of chamber music presented in historically appropriate settings.\\nShe has performed internationally with orchestras including the Seattle Symphony, Saint Louis Symphony, the Brandenberg Ensemble, and the Mostly Mozart Orchestra. She has also made recital appearances at Carnegie Hall, the Royal Albert Hall and Wigmore Hall in London; the Sydney Opera House; Casals Hall in Tokyo; and other venues in Paris, New Zealand, and Australia. Martin has also toured with James Galway, playing duo concerts with him. As a chamber musician, Martin has appeared with the Chamber Music Society of Lincoln Center, Chamber Music at the Y, the Santa Fe Chamber Music Festival, Music at Angel Fire, and Bravo! Colorado. She has recorded for Musical Heritage Society, Orion Master Recording, Arabesque, New World Records, Well-Tempered Productions, Albany Records, and Kiwi Pacific Records. Martin is on the board of Young Concert Artists and is a jurist in international music competitions. She is on the faculty of the Manhattan School of Music, a position she has had since 1996.\\nMartin is married to Manhattan businessman Ken Davidson.\\n\\n\\n== References ==\""
            ],
            "application/vnd.google.colaboratory.intrinsic+json": {
              "type": "string"
            }
          },
          "metadata": {},
          "execution_count": 26
        }
      ]
    },
    {
      "cell_type": "code",
      "source": [
        "clean_data = process_data(wiki_text)\n",
        "clean_data"
      ],
      "metadata": {
        "colab": {
          "base_uri": "https://localhost:8080/"
        },
        "collapsed": true,
        "id": "ADAUbjQrFfrT",
        "outputId": "1501f5c7-754d-4f76-b6fe-ea8fe5527e36"
      },
      "execution_count": 27,
      "outputs": [
        {
          "output_type": "execute_result",
          "data": {
            "text/plain": [
              "TextBlob(\"marya martin is an american flautist soloist recitalist and chamber musician\n",
              "born mary martin in new zealand martin studied at the university of auckland where she had lessons with richard giese then principal flute in the new zealand symphony orchestra after graduating in 1976 martin was awarded a queen elizabeth ii arts council grant to study at yale university in 1979 martin graduated from yale with a masters degree in flute performance  she shortly thereafter won the 1979 young concert artists international auditions she went on to win top prizes in the naumburg competition the munich international competition the jeanpierre rampal international competition and the concert artists guildall within a twoyear period to date martin is the only flutist to take top prizes in all of these major competitions in 1980 martin made her new york concert debut following these successes martin moved to paris to study with jeanpierre rampal at the nationale superieur conservatoire de paris and then later with sir james galway in lucerne switzerland\n",
              "in 1984 she founded the bridgehampton chamber music festival which under her artistic direction has done much to foster the development of chamber music presented in historically appropriate settings\n",
              "she has performed internationally with orchestras including the seattle symphony saint louis symphony the brandenberg ensemble and the mostly mozart orchestra she has also made recital appearances at carnegie hall the royal albert hall and wigmore hall in london the sydney opera house casals hall in tokyo and other venues in paris new zealand and australia martin has also toured with james galway playing duo concerts with him as a chamber musician martin has appeared with the chamber music society of lincoln center chamber music at the y the santa fe chamber music festival music at angel fire and bravo colorado she has recorded for musical heritage society orion master recording arabesque new world records welltempered productions albany records and kiwi pacific records martin is on the board of young concert artists and is a jurist in international music competitions she is on the faculty of the manhattan school of music a position she has had since 1996\n",
              "martin is married to manhattan businessman ken davidson\n",
              "\n",
              "\n",
              " references \")"
            ]
          },
          "metadata": {},
          "execution_count": 27
        }
      ]
    },
    {
      "cell_type": "code",
      "source": [
        "group_of_p"
      ],
      "metadata": {
        "colab": {
          "base_uri": "https://localhost:8080/"
        },
        "id": "hAePQexNHOD6",
        "outputId": "d1d6efd7-e070-41f7-95c6-ebf102730883"
      },
      "execution_count": 28,
      "outputs": [
        {
          "output_type": "execute_result",
          "data": {
            "text/plain": [
              "['Marya Martin',\n",
              " 'Trey Lee Chui-yee',\n",
              " 'Alec Chien',\n",
              " 'Kathryn Selby',\n",
              " 'Clark Ross',\n",
              " 'Sophia Yan',\n",
              " 'Paul Hostetter',\n",
              " 'Jeffrey Milarsky',\n",
              " 'Yoko Misumi',\n",
              " 'Joseph Twist',\n",
              " 'Chan Ka Nin']"
            ]
          },
          "metadata": {},
          "execution_count": 28
        }
      ]
    },
    {
      "cell_type": "code",
      "source": [
        "data = []"
      ],
      "metadata": {
        "id": "h5eyAuA0Ihyn"
      },
      "execution_count": 29,
      "outputs": []
    },
    {
      "cell_type": "code",
      "source": [
        "for i in group_of_p:\n",
        "  # Get the Wikipedia page text\n",
        "  group = wikipedia.page(i)\n",
        "  # Create a list/dictionary to store data (optional)\n",
        "  data_row = {'title': i, 'text': group.text}  # Example dictionary\n",
        "\n",
        "  data.append(data_row)"
      ],
      "metadata": {
        "id": "rwbTZkn0nyfW"
      },
      "execution_count": 30,
      "outputs": []
    },
    {
      "cell_type": "code",
      "source": [
        "rsult_df = pd.DataFrame(data)"
      ],
      "metadata": {
        "id": "vKK5cpDnoSOz"
      },
      "execution_count": 31,
      "outputs": []
    },
    {
      "cell_type": "code",
      "source": [
        "rsult_df"
      ],
      "metadata": {
        "id": "FBGXyZ7JoSMB",
        "colab": {
          "base_uri": "https://localhost:8080/",
          "height": 394
        },
        "outputId": "d17027a7-8b6d-488c-e0aa-497c7027525c"
      },
      "execution_count": 32,
      "outputs": [
        {
          "output_type": "execute_result",
          "data": {
            "text/plain": [
              "                title                                               text\n",
              "0        Marya Martin  Marya Martin is an American flautist, soloist,...\n",
              "1   Trey Lee Chui-yee  Trey Lee (Chinese:李垂誼; pinyin: Chui-yee Lee) i...\n",
              "2          Alec Chien  Alec Chien is a pianist from Hong Kong.\\nBorn ...\n",
              "3       Kathryn Selby  Kathryn Shauna Selby AM (born 1962) is an Aust...\n",
              "4          Clark Ross  Clark Winslow Ross is a Canadian composer, gui...\n",
              "5          Sophia Yan  Sophia Yan (嚴倩君, pinyin: Yán Qiànjūn, b. Octob...\n",
              "6      Paul Hostetter  Paul Hostetter is an American conductor, the E...\n",
              "7    Jeffrey Milarsky  Jeffrey Milarsky is a conductor of contemporar...\n",
              "8         Yoko Misumi  Yoko Misumi (三角ようこ, Misumi Yōko) is a Japanese...\n",
              "9        Joseph Twist  Joseph Edward Twist (born 1982) is an Australi...\n",
              "10        Chan Ka Nin  Chan Ka Nin (born 3 December 1949) is a Canadi..."
            ],
            "text/html": [
              "\n",
              "  <div id=\"df-e157d23e-1e6f-4e72-91ba-a2e6aa41cf73\" class=\"colab-df-container\">\n",
              "    <div>\n",
              "<style scoped>\n",
              "    .dataframe tbody tr th:only-of-type {\n",
              "        vertical-align: middle;\n",
              "    }\n",
              "\n",
              "    .dataframe tbody tr th {\n",
              "        vertical-align: top;\n",
              "    }\n",
              "\n",
              "    .dataframe thead th {\n",
              "        text-align: right;\n",
              "    }\n",
              "</style>\n",
              "<table border=\"1\" class=\"dataframe\">\n",
              "  <thead>\n",
              "    <tr style=\"text-align: right;\">\n",
              "      <th></th>\n",
              "      <th>title</th>\n",
              "      <th>text</th>\n",
              "    </tr>\n",
              "  </thead>\n",
              "  <tbody>\n",
              "    <tr>\n",
              "      <th>0</th>\n",
              "      <td>Marya Martin</td>\n",
              "      <td>Marya Martin is an American flautist, soloist,...</td>\n",
              "    </tr>\n",
              "    <tr>\n",
              "      <th>1</th>\n",
              "      <td>Trey Lee Chui-yee</td>\n",
              "      <td>Trey Lee (Chinese:李垂誼; pinyin: Chui-yee Lee) i...</td>\n",
              "    </tr>\n",
              "    <tr>\n",
              "      <th>2</th>\n",
              "      <td>Alec Chien</td>\n",
              "      <td>Alec Chien is a pianist from Hong Kong.\\nBorn ...</td>\n",
              "    </tr>\n",
              "    <tr>\n",
              "      <th>3</th>\n",
              "      <td>Kathryn Selby</td>\n",
              "      <td>Kathryn Shauna Selby AM (born 1962) is an Aust...</td>\n",
              "    </tr>\n",
              "    <tr>\n",
              "      <th>4</th>\n",
              "      <td>Clark Ross</td>\n",
              "      <td>Clark Winslow Ross is a Canadian composer, gui...</td>\n",
              "    </tr>\n",
              "    <tr>\n",
              "      <th>5</th>\n",
              "      <td>Sophia Yan</td>\n",
              "      <td>Sophia Yan (嚴倩君, pinyin: Yán Qiànjūn, b. Octob...</td>\n",
              "    </tr>\n",
              "    <tr>\n",
              "      <th>6</th>\n",
              "      <td>Paul Hostetter</td>\n",
              "      <td>Paul Hostetter is an American conductor, the E...</td>\n",
              "    </tr>\n",
              "    <tr>\n",
              "      <th>7</th>\n",
              "      <td>Jeffrey Milarsky</td>\n",
              "      <td>Jeffrey Milarsky is a conductor of contemporar...</td>\n",
              "    </tr>\n",
              "    <tr>\n",
              "      <th>8</th>\n",
              "      <td>Yoko Misumi</td>\n",
              "      <td>Yoko Misumi (三角ようこ, Misumi Yōko) is a Japanese...</td>\n",
              "    </tr>\n",
              "    <tr>\n",
              "      <th>9</th>\n",
              "      <td>Joseph Twist</td>\n",
              "      <td>Joseph Edward Twist (born 1982) is an Australi...</td>\n",
              "    </tr>\n",
              "    <tr>\n",
              "      <th>10</th>\n",
              "      <td>Chan Ka Nin</td>\n",
              "      <td>Chan Ka Nin (born 3 December 1949) is a Canadi...</td>\n",
              "    </tr>\n",
              "  </tbody>\n",
              "</table>\n",
              "</div>\n",
              "    <div class=\"colab-df-buttons\">\n",
              "\n",
              "  <div class=\"colab-df-container\">\n",
              "    <button class=\"colab-df-convert\" onclick=\"convertToInteractive('df-e157d23e-1e6f-4e72-91ba-a2e6aa41cf73')\"\n",
              "            title=\"Convert this dataframe to an interactive table.\"\n",
              "            style=\"display:none;\">\n",
              "\n",
              "  <svg xmlns=\"http://www.w3.org/2000/svg\" height=\"24px\" viewBox=\"0 -960 960 960\">\n",
              "    <path d=\"M120-120v-720h720v720H120Zm60-500h600v-160H180v160Zm220 220h160v-160H400v160Zm0 220h160v-160H400v160ZM180-400h160v-160H180v160Zm440 0h160v-160H620v160ZM180-180h160v-160H180v160Zm440 0h160v-160H620v160Z\"/>\n",
              "  </svg>\n",
              "    </button>\n",
              "\n",
              "  <style>\n",
              "    .colab-df-container {\n",
              "      display:flex;\n",
              "      gap: 12px;\n",
              "    }\n",
              "\n",
              "    .colab-df-convert {\n",
              "      background-color: #E8F0FE;\n",
              "      border: none;\n",
              "      border-radius: 50%;\n",
              "      cursor: pointer;\n",
              "      display: none;\n",
              "      fill: #1967D2;\n",
              "      height: 32px;\n",
              "      padding: 0 0 0 0;\n",
              "      width: 32px;\n",
              "    }\n",
              "\n",
              "    .colab-df-convert:hover {\n",
              "      background-color: #E2EBFA;\n",
              "      box-shadow: 0px 1px 2px rgba(60, 64, 67, 0.3), 0px 1px 3px 1px rgba(60, 64, 67, 0.15);\n",
              "      fill: #174EA6;\n",
              "    }\n",
              "\n",
              "    .colab-df-buttons div {\n",
              "      margin-bottom: 4px;\n",
              "    }\n",
              "\n",
              "    [theme=dark] .colab-df-convert {\n",
              "      background-color: #3B4455;\n",
              "      fill: #D2E3FC;\n",
              "    }\n",
              "\n",
              "    [theme=dark] .colab-df-convert:hover {\n",
              "      background-color: #434B5C;\n",
              "      box-shadow: 0px 1px 3px 1px rgba(0, 0, 0, 0.15);\n",
              "      filter: drop-shadow(0px 1px 2px rgba(0, 0, 0, 0.3));\n",
              "      fill: #FFFFFF;\n",
              "    }\n",
              "  </style>\n",
              "\n",
              "    <script>\n",
              "      const buttonEl =\n",
              "        document.querySelector('#df-e157d23e-1e6f-4e72-91ba-a2e6aa41cf73 button.colab-df-convert');\n",
              "      buttonEl.style.display =\n",
              "        google.colab.kernel.accessAllowed ? 'block' : 'none';\n",
              "\n",
              "      async function convertToInteractive(key) {\n",
              "        const element = document.querySelector('#df-e157d23e-1e6f-4e72-91ba-a2e6aa41cf73');\n",
              "        const dataTable =\n",
              "          await google.colab.kernel.invokeFunction('convertToInteractive',\n",
              "                                                    [key], {});\n",
              "        if (!dataTable) return;\n",
              "\n",
              "        const docLinkHtml = 'Like what you see? Visit the ' +\n",
              "          '<a target=\"_blank\" href=https://colab.research.google.com/notebooks/data_table.ipynb>data table notebook</a>'\n",
              "          + ' to learn more about interactive tables.';\n",
              "        element.innerHTML = '';\n",
              "        dataTable['output_type'] = 'display_data';\n",
              "        await google.colab.output.renderOutput(dataTable, element);\n",
              "        const docLink = document.createElement('div');\n",
              "        docLink.innerHTML = docLinkHtml;\n",
              "        element.appendChild(docLink);\n",
              "      }\n",
              "    </script>\n",
              "  </div>\n",
              "\n",
              "\n",
              "<div id=\"df-5bed1c97-301a-43aa-a306-a9870069fb35\">\n",
              "  <button class=\"colab-df-quickchart\" onclick=\"quickchart('df-5bed1c97-301a-43aa-a306-a9870069fb35')\"\n",
              "            title=\"Suggest charts\"\n",
              "            style=\"display:none;\">\n",
              "\n",
              "<svg xmlns=\"http://www.w3.org/2000/svg\" height=\"24px\"viewBox=\"0 0 24 24\"\n",
              "     width=\"24px\">\n",
              "    <g>\n",
              "        <path d=\"M19 3H5c-1.1 0-2 .9-2 2v14c0 1.1.9 2 2 2h14c1.1 0 2-.9 2-2V5c0-1.1-.9-2-2-2zM9 17H7v-7h2v7zm4 0h-2V7h2v10zm4 0h-2v-4h2v4z\"/>\n",
              "    </g>\n",
              "</svg>\n",
              "  </button>\n",
              "\n",
              "<style>\n",
              "  .colab-df-quickchart {\n",
              "      --bg-color: #E8F0FE;\n",
              "      --fill-color: #1967D2;\n",
              "      --hover-bg-color: #E2EBFA;\n",
              "      --hover-fill-color: #174EA6;\n",
              "      --disabled-fill-color: #AAA;\n",
              "      --disabled-bg-color: #DDD;\n",
              "  }\n",
              "\n",
              "  [theme=dark] .colab-df-quickchart {\n",
              "      --bg-color: #3B4455;\n",
              "      --fill-color: #D2E3FC;\n",
              "      --hover-bg-color: #434B5C;\n",
              "      --hover-fill-color: #FFFFFF;\n",
              "      --disabled-bg-color: #3B4455;\n",
              "      --disabled-fill-color: #666;\n",
              "  }\n",
              "\n",
              "  .colab-df-quickchart {\n",
              "    background-color: var(--bg-color);\n",
              "    border: none;\n",
              "    border-radius: 50%;\n",
              "    cursor: pointer;\n",
              "    display: none;\n",
              "    fill: var(--fill-color);\n",
              "    height: 32px;\n",
              "    padding: 0;\n",
              "    width: 32px;\n",
              "  }\n",
              "\n",
              "  .colab-df-quickchart:hover {\n",
              "    background-color: var(--hover-bg-color);\n",
              "    box-shadow: 0 1px 2px rgba(60, 64, 67, 0.3), 0 1px 3px 1px rgba(60, 64, 67, 0.15);\n",
              "    fill: var(--button-hover-fill-color);\n",
              "  }\n",
              "\n",
              "  .colab-df-quickchart-complete:disabled,\n",
              "  .colab-df-quickchart-complete:disabled:hover {\n",
              "    background-color: var(--disabled-bg-color);\n",
              "    fill: var(--disabled-fill-color);\n",
              "    box-shadow: none;\n",
              "  }\n",
              "\n",
              "  .colab-df-spinner {\n",
              "    border: 2px solid var(--fill-color);\n",
              "    border-color: transparent;\n",
              "    border-bottom-color: var(--fill-color);\n",
              "    animation:\n",
              "      spin 1s steps(1) infinite;\n",
              "  }\n",
              "\n",
              "  @keyframes spin {\n",
              "    0% {\n",
              "      border-color: transparent;\n",
              "      border-bottom-color: var(--fill-color);\n",
              "      border-left-color: var(--fill-color);\n",
              "    }\n",
              "    20% {\n",
              "      border-color: transparent;\n",
              "      border-left-color: var(--fill-color);\n",
              "      border-top-color: var(--fill-color);\n",
              "    }\n",
              "    30% {\n",
              "      border-color: transparent;\n",
              "      border-left-color: var(--fill-color);\n",
              "      border-top-color: var(--fill-color);\n",
              "      border-right-color: var(--fill-color);\n",
              "    }\n",
              "    40% {\n",
              "      border-color: transparent;\n",
              "      border-right-color: var(--fill-color);\n",
              "      border-top-color: var(--fill-color);\n",
              "    }\n",
              "    60% {\n",
              "      border-color: transparent;\n",
              "      border-right-color: var(--fill-color);\n",
              "    }\n",
              "    80% {\n",
              "      border-color: transparent;\n",
              "      border-right-color: var(--fill-color);\n",
              "      border-bottom-color: var(--fill-color);\n",
              "    }\n",
              "    90% {\n",
              "      border-color: transparent;\n",
              "      border-bottom-color: var(--fill-color);\n",
              "    }\n",
              "  }\n",
              "</style>\n",
              "\n",
              "  <script>\n",
              "    async function quickchart(key) {\n",
              "      const quickchartButtonEl =\n",
              "        document.querySelector('#' + key + ' button');\n",
              "      quickchartButtonEl.disabled = true;  // To prevent multiple clicks.\n",
              "      quickchartButtonEl.classList.add('colab-df-spinner');\n",
              "      try {\n",
              "        const charts = await google.colab.kernel.invokeFunction(\n",
              "            'suggestCharts', [key], {});\n",
              "      } catch (error) {\n",
              "        console.error('Error during call to suggestCharts:', error);\n",
              "      }\n",
              "      quickchartButtonEl.classList.remove('colab-df-spinner');\n",
              "      quickchartButtonEl.classList.add('colab-df-quickchart-complete');\n",
              "    }\n",
              "    (() => {\n",
              "      let quickchartButtonEl =\n",
              "        document.querySelector('#df-5bed1c97-301a-43aa-a306-a9870069fb35 button');\n",
              "      quickchartButtonEl.style.display =\n",
              "        google.colab.kernel.accessAllowed ? 'block' : 'none';\n",
              "    })();\n",
              "  </script>\n",
              "</div>\n",
              "\n",
              "  <div id=\"id_39218f8f-8abd-4491-a3a6-92db090f30ec\">\n",
              "    <style>\n",
              "      .colab-df-generate {\n",
              "        background-color: #E8F0FE;\n",
              "        border: none;\n",
              "        border-radius: 50%;\n",
              "        cursor: pointer;\n",
              "        display: none;\n",
              "        fill: #1967D2;\n",
              "        height: 32px;\n",
              "        padding: 0 0 0 0;\n",
              "        width: 32px;\n",
              "      }\n",
              "\n",
              "      .colab-df-generate:hover {\n",
              "        background-color: #E2EBFA;\n",
              "        box-shadow: 0px 1px 2px rgba(60, 64, 67, 0.3), 0px 1px 3px 1px rgba(60, 64, 67, 0.15);\n",
              "        fill: #174EA6;\n",
              "      }\n",
              "\n",
              "      [theme=dark] .colab-df-generate {\n",
              "        background-color: #3B4455;\n",
              "        fill: #D2E3FC;\n",
              "      }\n",
              "\n",
              "      [theme=dark] .colab-df-generate:hover {\n",
              "        background-color: #434B5C;\n",
              "        box-shadow: 0px 1px 3px 1px rgba(0, 0, 0, 0.15);\n",
              "        filter: drop-shadow(0px 1px 2px rgba(0, 0, 0, 0.3));\n",
              "        fill: #FFFFFF;\n",
              "      }\n",
              "    </style>\n",
              "    <button class=\"colab-df-generate\" onclick=\"generateWithVariable('rsult_df')\"\n",
              "            title=\"Generate code using this dataframe.\"\n",
              "            style=\"display:none;\">\n",
              "\n",
              "  <svg xmlns=\"http://www.w3.org/2000/svg\" height=\"24px\"viewBox=\"0 0 24 24\"\n",
              "       width=\"24px\">\n",
              "    <path d=\"M7,19H8.4L18.45,9,17,7.55,7,17.6ZM5,21V16.75L18.45,3.32a2,2,0,0,1,2.83,0l1.4,1.43a1.91,1.91,0,0,1,.58,1.4,1.91,1.91,0,0,1-.58,1.4L9.25,21ZM18.45,9,17,7.55Zm-12,3A5.31,5.31,0,0,0,4.9,8.1,5.31,5.31,0,0,0,1,6.5,5.31,5.31,0,0,0,4.9,4.9,5.31,5.31,0,0,0,6.5,1,5.31,5.31,0,0,0,8.1,4.9,5.31,5.31,0,0,0,12,6.5,5.46,5.46,0,0,0,6.5,12Z\"/>\n",
              "  </svg>\n",
              "    </button>\n",
              "    <script>\n",
              "      (() => {\n",
              "      const buttonEl =\n",
              "        document.querySelector('#id_39218f8f-8abd-4491-a3a6-92db090f30ec button.colab-df-generate');\n",
              "      buttonEl.style.display =\n",
              "        google.colab.kernel.accessAllowed ? 'block' : 'none';\n",
              "\n",
              "      buttonEl.onclick = () => {\n",
              "        google.colab.notebook.generateWithVariable('rsult_df');\n",
              "      }\n",
              "      })();\n",
              "    </script>\n",
              "  </div>\n",
              "\n",
              "    </div>\n",
              "  </div>\n"
            ],
            "application/vnd.google.colaboratory.intrinsic+json": {
              "type": "dataframe",
              "variable_name": "rsult_df",
              "summary": "{\n  \"name\": \"rsult_df\",\n  \"rows\": 11,\n  \"fields\": [\n    {\n      \"column\": \"title\",\n      \"properties\": {\n        \"dtype\": \"string\",\n        \"num_unique_values\": 11,\n        \"samples\": [\n          \"Sophia Yan\",\n          \"Marya Martin\",\n          \"Joseph Twist\"\n        ],\n        \"semantic_type\": \"\",\n        \"description\": \"\"\n      }\n    },\n    {\n      \"column\": \"text\",\n      \"properties\": {\n        \"dtype\": \"string\",\n        \"num_unique_values\": 11,\n        \"samples\": [\n          \"Sophia Yan (\\u56b4\\u5029\\u541b, pinyin: Y\\u00e1n Qi\\u00e0nj\\u016bn, b. October 8, 1986) is an American classical pianist, journalist, and Beijing correspondent at The Daily Telegraph.\\n\\nEarly life and education\\nYan was born to Taiwanese parents in Queens, New York. She majored in English and Piano Performance at Oberlin College and Conservatory of Music and graduated in 2009. She is fluent in Mandarin and speaks basic Taiwanese, Cantonese, Spanish, and some Japanese.\\n\\nCareer\\nEarly career in music\\nYan won the International Concert Alliance Competition and a laureate of the International Young Artist Piano Competition in Washington, D.C.  In addition, she is a two-time winner of the Music Teachers National Association Competition of Eastern New Jersey, and prize-winning alumnus of the 2004 New York Piano Competition.  Her awards include four-time First Prize winner of the Steinway Society Competition, First Place in the Battleground Symphony Concerto Competition, Grand Prize in the Bookstaber Memorial Piano Competition, First Place in the NJMTA Scholarship Competition  and Grand Prize in the Goldblatt Scholarship Competition.\\nAs Neil Genzlinger of The New York Times describes, when Yan plays \\u201cthe music literally pulls her off the piano bench; she ranges up and down the keyboard so quickly and with such ferocity that mere sitting will not do.\\u201d\\nYan has performed widely in the United States, Europe and Asia, appearing at Lincoln Center, Carnegie Hall, Steinway Hall, CAMI Hall, Kennedy Center, St. Mark's, the Eastern Music Festival, Niagara International Chamber Music Festival, and the Shaw Festival in Niagara-on-the-Lake, Canada.  Solo orchestral engagements include collaborations with the Battleground Symphony, Rowan Chamber and East Brunswick Chamber Orchestras. She has also performed on the Composer's Voice Concert Series in New York City as well as participating in the Vox Novus series Fifteen-Minutes-of-Fame project.  She also provides the music for the Lawfare podcast.\\n\\nJournalism\\nIn July 2010, Yan started her journalism career as a reporter for Bloomberg News based in Hong Kong and Washington, D.C.\\nIn 2013, Yan joined CNN. In 2014, as an Asia Business Reporter for CNNMoney, Yan covered the 2014 pro-democracy protests in Hong Kong.\\nYan was a Beijing correspondent at CNBC. She covers topics from technology to economics in China and Asia. As of 2019 she has been working for The Daily Telegraph.\\n\\nSee also\\nChinese Americans in New York City\\nConservative Asian Americans\\nNew Yorkers in journalism\\nOberlin Conservatory of Music\\nTaiwanese Americans in New York City\\n\\nReferences\\nExternal links\\nPersonal Website\\nConservatory Website\\nRelated Newspaper Articles\\nArticles written by Sophia Yan (as journalist) at Bloomberg.com\\nBiography of Sophia Yan at CNBC.com\",\n          \"Marya Martin is an American flautist, soloist, recitalist, and chamber musician.\\nBorn Mary Martin in New Zealand, Martin studied at the University of Auckland, where she had lessons with Richard Giese, then principal flute in the New Zealand Symphony Orchestra. After graduating in 1976, Martin was awarded a Queen Elizabeth II Arts Council grant to study at Yale University. In 1979, Martin graduated from Yale with a master's degree in flute performance.  She shortly thereafter won the 1979 Young Concert Artists International Auditions. She went on to win top prizes in the Naumburg Competition, the Munich International Competition, the Jean-Pierre Rampal International Competition, and the Concert Artists Guild\\u2014all within a two-year period. To date, Martin is the only flutist to take top prizes in all of these major competitions. In 1980, Martin made her New York concert debut. Following these successes, Martin moved to Paris to study with Jean-Pierre Rampal at the Nationale Superieur Conservatoire de Paris and then later with Sir James Galway in Lucerne, Switzerland.\\nIn 1984, she founded the Bridgehampton Chamber Music Festival which, under her artistic direction, has done much to foster the development of chamber music presented in historically appropriate settings.\\nShe has performed internationally with orchestras including the Seattle Symphony, Saint Louis Symphony, the Brandenberg Ensemble, and the Mostly Mozart Orchestra. She has also made recital appearances at Carnegie Hall, the Royal Albert Hall and Wigmore Hall in London; the Sydney Opera House; Casals Hall in Tokyo; and other venues in Paris, New Zealand, and Australia. Martin has also toured with James Galway, playing duo concerts with him. As a chamber musician, Martin has appeared with the Chamber Music Society of Lincoln Center, Chamber Music at the Y, the Santa Fe Chamber Music Festival, Music at Angel Fire, and Bravo! Colorado. She has recorded for Musical Heritage Society, Orion Master Recording, Arabesque, New World Records, Well-Tempered Productions, Albany Records, and Kiwi Pacific Records. Martin is on the board of Young Concert Artists and is a jurist in international music competitions. She is on the faculty of the Manhattan School of Music, a position she has had since 1996.\\nMartin is married to Manhattan businessman Ken Davidson.\\n\\n\\n== References ==\",\n          \"Joseph Edward Twist (born 1982) is an Australian composer from Gold Coast, Queensland, who resides in the United States.\\nTwist composed music for other artists including Moby, Missy Higgins, Guy Sebastian, Kate Miller-Heidke, The Idea of North, Chanticleer and The Wiggles and for television shows including Bluey. Twist also composed for films The Jungle Book (2016), Zoolander 2, Baywatch and The Brooklyn Banker. Twist works in a range of genres from ancient vocal music, opera, contemporary orchestral music, jazz, musical theatre and cabaret. Twist's concert works are performed by professional ensembles around the world. He worked in copying and orchestration on Hollywood studio films in Los Angeles with Steven Juliani Music.\\n\\nEarly years and education\\nJoseph Edward Twist was born in 1982 in Queensland, and grew up on the Gold Coast. He began learning keyboards and then piano with music teacher, Kathryn Bartlett. At primary school, Twist studied piano with Bevan Crabtree and began composing music in his teens.\\nTwist holds four tertiary degrees in music composition. He completed his Bachelor (2003) and Master of Music at the School of Music, University of Queensland and studied composition under Philip Bra\\u010danin, Richard Mills, Nigel Butterley, and subsequently with Ira Newborn and Julia Wolfe in New York City.  His doctoral thesis, Folio of Compositions with Critical Commentary: An exploration of musical influences and composing techniques. Critical commentary was delivered to the University of Queensland, School of Music in August 2009. He started another doctorate at Melbourne Conservatorium of Music with Elliott Gyger and Katy Abbott-Kvasnica supervising. He has also studied at the Australian Film Television and Radio School, and New York University. Twist has participated in several film scoring programs around the United States, such as NYU ASCAP Film Scoring Workshop in New York and the ASCAP Film and TV Workshop with Richard Bellis in Los Angeles.\\n\\nCareer\\nJoseph Twist sang tenor for the Brisbane Chamber Choir (c. 2004), Canticum (c. 2005), National Youth Choir of Australia and Guido's Hand. He was appointed composer-in-residence for Gondwana Voices for 2008.\\nIn 2009 he set Judith Wright's poem, \\\"The Old Prison\\\", to music. Sarah Collins of the Australian Music Centre (AMC) attended the Q150 Celebration Concert at St John's Cathedral in July of that year. The concert included Twist's adaptation of \\\"The Old Prison\\\" performed by the Brisbane Chamber Choir and the Queensland Orchestra String Quartet for its world premiere. Collins observed, \\\"[he] sets the opening simple motif over a drone with wide temporal space between the intervals alluding to the flat, open landscape. This six-note (with anacrusis) opening motif becomes the germ upon which the work is based.\\\"\\nHis track, \\\"How shall we sing the Lord's song in a strange land?\\\", was broadcast by the BBC.\\nIn 2019, he was commissioned to arrange Men at Work's hit song Down Under, for the Sydney Symphony Orchestra for use at the State Memorial Service for former Australian Prime Minister Bob Hawke held at the Sydney Opera House on 19 June of that year. \\nIn 2022 a cantata he composed to mark the fiftieth anniversary of the murder of Dr George Duncan premiered at the Adelaide Festival.  It was revived by Opera Australia in 2024 for a season of performances at the Sydney Opera House.\\n\\nAwards\\nAwards and recognition include:\\n\\nASCAP Jimmy Van Heusen Award 2013\\nChanticleer International Composition Competition\\nAPRA Professional Development Award (Film and TV Category)\\nFirst-place in the 15th International Choral Composition Competition in 2011\\n\\nWorks\\n\\\"Wandering\\\" (2003) \\u2013 SATB Brisbane Chamber Choir conducted by Graeme Morton, appears on Time and Eternity (2006)\\n\\\"Do not Stand at my Grave and Weep\\\" \\u2013 for SATB Choir. Commissioned by the National Youth Choir of Australia, 2004.\\n\\\"Do not Stand at My Grave and Weep\\\" by Canticum Chamber Choir, Emily Cox (conductor) appears on Choral Highlights \\u2013 7th World Symposium on Choral Music (CD album, May 2006)\\n\\\"Love Themes\\\" \\u2013 a set of Madrigals for 6 Voices.  Written for The Song Company, 2005. (3mvts)\\n\\\"Fanfare for the Common Consumer\\\" (for Orchestra)\\n\\\"On the Night Train\\\" for SATB Choir\\n\\\"Wandering\\\" for SATB Choir\\n\\\"Rain Dream\\\" for SSAA Choir and Piano\\n\\\"I Dance Myself to Sleep\\\" for Orchestra\\n\\\"How shall we sing the Lord's song in a strange land?\\\" for SATB Choir\\n\\\"Ubi Caritas\\\" on Luminescence (2016) by Canticum Chamber Choir\\nAn Australian Song Cycle for the \\\"Garden of the Soul\\\" programme for Sydney Chamber Choir\\nWatershed: The Death of Dr Duncan commissioned by the Adelaide Festival to commemorate 50 years since the infamous drowning of Dr George Ian Ogilvie Duncan.\\n\\n\\n== References ==\"\n        ],\n        \"semantic_type\": \"\",\n        \"description\": \"\"\n      }\n    }\n  ]\n}"
            }
          },
          "metadata": {},
          "execution_count": 32
        }
      ]
    },
    {
      "cell_type": "markdown",
      "source": [
        "### Clean Data"
      ],
      "metadata": {
        "id": "KYmE_fXCSntB"
      }
    },
    {
      "cell_type": "code",
      "source": [
        "rsult_df['text'] = rsult_df['text'].apply(process_data)"
      ],
      "metadata": {
        "id": "_zXuoRzhJXgW"
      },
      "execution_count": 33,
      "outputs": []
    },
    {
      "cell_type": "code",
      "source": [
        "rsult_df['text'] = rsult_df['text'].apply(singularize_text)"
      ],
      "metadata": {
        "id": "BIr6ZuYNJJPh"
      },
      "execution_count": 34,
      "outputs": []
    },
    {
      "cell_type": "markdown",
      "source": [
        "### BoW"
      ],
      "metadata": {
        "id": "qmjk4tkpSqLr"
      }
    },
    {
      "cell_type": "code",
      "source": [
        "vectorizer2 = CountVectorizer(stop_words='english')\n",
        "bow2 = vectorizer2.fit_transform(rsult_df['text'])\n",
        "bow2 = bow2.toarray()\n",
        "bow2"
      ],
      "metadata": {
        "colab": {
          "base_uri": "https://localhost:8080/"
        },
        "id": "T_oK_HTfSsa9",
        "outputId": "f7593eb8-7e4d-478f-83e5-683f4aa5e507"
      },
      "execution_count": 35,
      "outputs": [
        {
          "output_type": "execute_result",
          "data": {
            "text/plain": [
              "array([[0, 0, 0, ..., 0, 0, 0],\n",
              "       [0, 0, 0, ..., 0, 0, 0],\n",
              "       [0, 1, 0, ..., 0, 0, 0],\n",
              "       ...,\n",
              "       [0, 0, 1, ..., 0, 1, 0],\n",
              "       [0, 0, 0, ..., 1, 0, 0],\n",
              "       [0, 0, 0, ..., 0, 0, 0]])"
            ]
          },
          "metadata": {},
          "execution_count": 35
        }
      ]
    },
    {
      "cell_type": "markdown",
      "source": [
        "### TF-IDF"
      ],
      "metadata": {
        "id": "zylLDAAQTRIY"
      }
    },
    {
      "cell_type": "code",
      "source": [
        "# Perform the TF-IDF transformation - (CountVectorizer + TfidfTransformer)\n",
        "tf_idf_tran2 = TfidfTransformer()\n",
        "tf_idf2 = tf_idf_tran2.fit_transform(bow2)\n",
        "tf_idf2 = tf_idf2.toarray()\n",
        "tf_idf2"
      ],
      "metadata": {
        "colab": {
          "base_uri": "https://localhost:8080/"
        },
        "id": "q70o1LunTTDW",
        "outputId": "ead558a6-6cad-402a-ed63-dca16e33af2a"
      },
      "execution_count": 36,
      "outputs": [
        {
          "output_type": "execute_result",
          "data": {
            "text/plain": [
              "array([[0.        , 0.        , 0.        , ..., 0.        , 0.        ,\n",
              "        0.        ],\n",
              "       [0.        , 0.        , 0.        , ..., 0.        , 0.        ,\n",
              "        0.        ],\n",
              "       [0.        , 0.13169949, 0.        , ..., 0.        , 0.        ,\n",
              "        0.        ],\n",
              "       ...,\n",
              "       [0.        , 0.        , 0.05296468, ..., 0.        , 0.05296468,\n",
              "        0.        ],\n",
              "       [0.        , 0.        , 0.        , ..., 0.03240923, 0.        ,\n",
              "        0.        ],\n",
              "       [0.        , 0.        , 0.        , ..., 0.        , 0.        ,\n",
              "        0.        ]])"
            ]
          },
          "metadata": {},
          "execution_count": 36
        }
      ]
    },
    {
      "cell_type": "markdown",
      "source": [
        "### K-Nearest Neighbor\n",
        "\n"
      ],
      "metadata": {
        "id": "MYANYrR9Tff_"
      }
    },
    {
      "cell_type": "code",
      "source": [
        "kn2 = NearestNeighbors().fit(tf_idf2)"
      ],
      "metadata": {
        "id": "-VQw9ySnTjWs"
      },
      "execution_count": 37,
      "outputs": []
    },
    {
      "cell_type": "code",
      "source": [
        "subject = np.array([tf_idf2[2]])\n",
        "subject.shape"
      ],
      "metadata": {
        "colab": {
          "base_uri": "https://localhost:8080/"
        },
        "id": "_qj89UWwVS9r",
        "outputId": "763be78d-cc6e-4c57-fa52-cc245c0ef7a6"
      },
      "execution_count": 38,
      "outputs": [
        {
          "output_type": "execute_result",
          "data": {
            "text/plain": [
              "(1, 1318)"
            ]
          },
          "metadata": {},
          "execution_count": 38
        }
      ]
    },
    {
      "cell_type": "code",
      "source": [
        "distances2, indices2 = kn2.kneighbors(\n",
        "  X = subject,\n",
        "  n_neighbors = 11,\n",
        ")"
      ],
      "metadata": {
        "id": "7D8wdBcxUpNH"
      },
      "execution_count": 39,
      "outputs": []
    },
    {
      "cell_type": "code",
      "source": [
        "distances2"
      ],
      "metadata": {
        "colab": {
          "base_uri": "https://localhost:8080/"
        },
        "id": "wFFyt65oUwhl",
        "outputId": "a1217100-6ee6-4b44-ca65-4b69f72d8ffd"
      },
      "execution_count": 40,
      "outputs": [
        {
          "output_type": "execute_result",
          "data": {
            "text/plain": [
              "array([[0.        , 1.33117378, 1.33404489, 1.34857411, 1.35386852,\n",
              "        1.35528678, 1.35823684, 1.35970446, 1.36379427, 1.3713848 ,\n",
              "        1.37367806]])"
            ]
          },
          "metadata": {},
          "execution_count": 40
        }
      ]
    },
    {
      "cell_type": "code",
      "source": [
        "new_group = [ x for i,x in enumerate(rsult_df['title']) if i in indices2[0] ]\n",
        "new_group"
      ],
      "metadata": {
        "colab": {
          "base_uri": "https://localhost:8080/"
        },
        "id": "iUILoUK7UxCb",
        "outputId": "06d7f541-8352-4032-8807-f87a593743a7"
      },
      "execution_count": 41,
      "outputs": [
        {
          "output_type": "execute_result",
          "data": {
            "text/plain": [
              "['Marya Martin',\n",
              " 'Trey Lee Chui-yee',\n",
              " 'Alec Chien',\n",
              " 'Kathryn Selby',\n",
              " 'Clark Ross',\n",
              " 'Sophia Yan',\n",
              " 'Paul Hostetter',\n",
              " 'Jeffrey Milarsky',\n",
              " 'Yoko Misumi',\n",
              " 'Joseph Twist',\n",
              " 'Chan Ka Nin']"
            ]
          },
          "metadata": {},
          "execution_count": 41
        }
      ]
    },
    {
      "cell_type": "code",
      "source": [
        "np.array(rsult_df['title'])[indices2]"
      ],
      "metadata": {
        "colab": {
          "base_uri": "https://localhost:8080/"
        },
        "id": "nFqOqDu3Zv3H",
        "outputId": "11a94880-45b2-4f11-a613-d6db17f10184"
      },
      "execution_count": 42,
      "outputs": [
        {
          "output_type": "execute_result",
          "data": {
            "text/plain": [
              "array([['Alec Chien', 'Kathryn Selby', 'Sophia Yan', 'Yoko Misumi',\n",
              "        'Trey Lee Chui-yee', 'Chan Ka Nin', 'Marya Martin',\n",
              "        'Joseph Twist', 'Clark Ross', 'Paul Hostetter',\n",
              "        'Jeffrey Milarsky']], dtype=object)"
            ]
          },
          "metadata": {},
          "execution_count": 42
        }
      ]
    },
    {
      "cell_type": "code",
      "source": [
        "data_to_compare= {'distance_1': distances.squeeze(), 'distance_2': distances2.squeeze()}\n",
        "df2 = pd.DataFrame(data_to_compare)\n",
        "df2"
      ],
      "metadata": {
        "colab": {
          "base_uri": "https://localhost:8080/",
          "height": 394
        },
        "id": "GA_2Ck_cZ332",
        "outputId": "385f3dfd-54f9-46b1-c3db-d351d93ef33d"
      },
      "execution_count": 43,
      "outputs": [
        {
          "output_type": "execute_result",
          "data": {
            "text/plain": [
              "    distance_1  distance_2\n",
              "0     0.000000    0.000000\n",
              "1     1.200130    1.331174\n",
              "2     1.203551    1.334045\n",
              "3     1.213170    1.348574\n",
              "4     1.214885    1.353869\n",
              "5     1.248567    1.355287\n",
              "6     1.249141    1.358237\n",
              "7     1.252828    1.359704\n",
              "8     1.253898    1.363794\n",
              "9     1.264533    1.371385\n",
              "10    1.265774    1.373678"
            ],
            "text/html": [
              "\n",
              "  <div id=\"df-a9522a96-c0fd-438c-94b3-b3d5d4f83c2a\" class=\"colab-df-container\">\n",
              "    <div>\n",
              "<style scoped>\n",
              "    .dataframe tbody tr th:only-of-type {\n",
              "        vertical-align: middle;\n",
              "    }\n",
              "\n",
              "    .dataframe tbody tr th {\n",
              "        vertical-align: top;\n",
              "    }\n",
              "\n",
              "    .dataframe thead th {\n",
              "        text-align: right;\n",
              "    }\n",
              "</style>\n",
              "<table border=\"1\" class=\"dataframe\">\n",
              "  <thead>\n",
              "    <tr style=\"text-align: right;\">\n",
              "      <th></th>\n",
              "      <th>distance_1</th>\n",
              "      <th>distance_2</th>\n",
              "    </tr>\n",
              "  </thead>\n",
              "  <tbody>\n",
              "    <tr>\n",
              "      <th>0</th>\n",
              "      <td>0.000000</td>\n",
              "      <td>0.000000</td>\n",
              "    </tr>\n",
              "    <tr>\n",
              "      <th>1</th>\n",
              "      <td>1.200130</td>\n",
              "      <td>1.331174</td>\n",
              "    </tr>\n",
              "    <tr>\n",
              "      <th>2</th>\n",
              "      <td>1.203551</td>\n",
              "      <td>1.334045</td>\n",
              "    </tr>\n",
              "    <tr>\n",
              "      <th>3</th>\n",
              "      <td>1.213170</td>\n",
              "      <td>1.348574</td>\n",
              "    </tr>\n",
              "    <tr>\n",
              "      <th>4</th>\n",
              "      <td>1.214885</td>\n",
              "      <td>1.353869</td>\n",
              "    </tr>\n",
              "    <tr>\n",
              "      <th>5</th>\n",
              "      <td>1.248567</td>\n",
              "      <td>1.355287</td>\n",
              "    </tr>\n",
              "    <tr>\n",
              "      <th>6</th>\n",
              "      <td>1.249141</td>\n",
              "      <td>1.358237</td>\n",
              "    </tr>\n",
              "    <tr>\n",
              "      <th>7</th>\n",
              "      <td>1.252828</td>\n",
              "      <td>1.359704</td>\n",
              "    </tr>\n",
              "    <tr>\n",
              "      <th>8</th>\n",
              "      <td>1.253898</td>\n",
              "      <td>1.363794</td>\n",
              "    </tr>\n",
              "    <tr>\n",
              "      <th>9</th>\n",
              "      <td>1.264533</td>\n",
              "      <td>1.371385</td>\n",
              "    </tr>\n",
              "    <tr>\n",
              "      <th>10</th>\n",
              "      <td>1.265774</td>\n",
              "      <td>1.373678</td>\n",
              "    </tr>\n",
              "  </tbody>\n",
              "</table>\n",
              "</div>\n",
              "    <div class=\"colab-df-buttons\">\n",
              "\n",
              "  <div class=\"colab-df-container\">\n",
              "    <button class=\"colab-df-convert\" onclick=\"convertToInteractive('df-a9522a96-c0fd-438c-94b3-b3d5d4f83c2a')\"\n",
              "            title=\"Convert this dataframe to an interactive table.\"\n",
              "            style=\"display:none;\">\n",
              "\n",
              "  <svg xmlns=\"http://www.w3.org/2000/svg\" height=\"24px\" viewBox=\"0 -960 960 960\">\n",
              "    <path d=\"M120-120v-720h720v720H120Zm60-500h600v-160H180v160Zm220 220h160v-160H400v160Zm0 220h160v-160H400v160ZM180-400h160v-160H180v160Zm440 0h160v-160H620v160ZM180-180h160v-160H180v160Zm440 0h160v-160H620v160Z\"/>\n",
              "  </svg>\n",
              "    </button>\n",
              "\n",
              "  <style>\n",
              "    .colab-df-container {\n",
              "      display:flex;\n",
              "      gap: 12px;\n",
              "    }\n",
              "\n",
              "    .colab-df-convert {\n",
              "      background-color: #E8F0FE;\n",
              "      border: none;\n",
              "      border-radius: 50%;\n",
              "      cursor: pointer;\n",
              "      display: none;\n",
              "      fill: #1967D2;\n",
              "      height: 32px;\n",
              "      padding: 0 0 0 0;\n",
              "      width: 32px;\n",
              "    }\n",
              "\n",
              "    .colab-df-convert:hover {\n",
              "      background-color: #E2EBFA;\n",
              "      box-shadow: 0px 1px 2px rgba(60, 64, 67, 0.3), 0px 1px 3px 1px rgba(60, 64, 67, 0.15);\n",
              "      fill: #174EA6;\n",
              "    }\n",
              "\n",
              "    .colab-df-buttons div {\n",
              "      margin-bottom: 4px;\n",
              "    }\n",
              "\n",
              "    [theme=dark] .colab-df-convert {\n",
              "      background-color: #3B4455;\n",
              "      fill: #D2E3FC;\n",
              "    }\n",
              "\n",
              "    [theme=dark] .colab-df-convert:hover {\n",
              "      background-color: #434B5C;\n",
              "      box-shadow: 0px 1px 3px 1px rgba(0, 0, 0, 0.15);\n",
              "      filter: drop-shadow(0px 1px 2px rgba(0, 0, 0, 0.3));\n",
              "      fill: #FFFFFF;\n",
              "    }\n",
              "  </style>\n",
              "\n",
              "    <script>\n",
              "      const buttonEl =\n",
              "        document.querySelector('#df-a9522a96-c0fd-438c-94b3-b3d5d4f83c2a button.colab-df-convert');\n",
              "      buttonEl.style.display =\n",
              "        google.colab.kernel.accessAllowed ? 'block' : 'none';\n",
              "\n",
              "      async function convertToInteractive(key) {\n",
              "        const element = document.querySelector('#df-a9522a96-c0fd-438c-94b3-b3d5d4f83c2a');\n",
              "        const dataTable =\n",
              "          await google.colab.kernel.invokeFunction('convertToInteractive',\n",
              "                                                    [key], {});\n",
              "        if (!dataTable) return;\n",
              "\n",
              "        const docLinkHtml = 'Like what you see? Visit the ' +\n",
              "          '<a target=\"_blank\" href=https://colab.research.google.com/notebooks/data_table.ipynb>data table notebook</a>'\n",
              "          + ' to learn more about interactive tables.';\n",
              "        element.innerHTML = '';\n",
              "        dataTable['output_type'] = 'display_data';\n",
              "        await google.colab.output.renderOutput(dataTable, element);\n",
              "        const docLink = document.createElement('div');\n",
              "        docLink.innerHTML = docLinkHtml;\n",
              "        element.appendChild(docLink);\n",
              "      }\n",
              "    </script>\n",
              "  </div>\n",
              "\n",
              "\n",
              "<div id=\"df-4e7c81af-de41-47f9-adee-be829850c27e\">\n",
              "  <button class=\"colab-df-quickchart\" onclick=\"quickchart('df-4e7c81af-de41-47f9-adee-be829850c27e')\"\n",
              "            title=\"Suggest charts\"\n",
              "            style=\"display:none;\">\n",
              "\n",
              "<svg xmlns=\"http://www.w3.org/2000/svg\" height=\"24px\"viewBox=\"0 0 24 24\"\n",
              "     width=\"24px\">\n",
              "    <g>\n",
              "        <path d=\"M19 3H5c-1.1 0-2 .9-2 2v14c0 1.1.9 2 2 2h14c1.1 0 2-.9 2-2V5c0-1.1-.9-2-2-2zM9 17H7v-7h2v7zm4 0h-2V7h2v10zm4 0h-2v-4h2v4z\"/>\n",
              "    </g>\n",
              "</svg>\n",
              "  </button>\n",
              "\n",
              "<style>\n",
              "  .colab-df-quickchart {\n",
              "      --bg-color: #E8F0FE;\n",
              "      --fill-color: #1967D2;\n",
              "      --hover-bg-color: #E2EBFA;\n",
              "      --hover-fill-color: #174EA6;\n",
              "      --disabled-fill-color: #AAA;\n",
              "      --disabled-bg-color: #DDD;\n",
              "  }\n",
              "\n",
              "  [theme=dark] .colab-df-quickchart {\n",
              "      --bg-color: #3B4455;\n",
              "      --fill-color: #D2E3FC;\n",
              "      --hover-bg-color: #434B5C;\n",
              "      --hover-fill-color: #FFFFFF;\n",
              "      --disabled-bg-color: #3B4455;\n",
              "      --disabled-fill-color: #666;\n",
              "  }\n",
              "\n",
              "  .colab-df-quickchart {\n",
              "    background-color: var(--bg-color);\n",
              "    border: none;\n",
              "    border-radius: 50%;\n",
              "    cursor: pointer;\n",
              "    display: none;\n",
              "    fill: var(--fill-color);\n",
              "    height: 32px;\n",
              "    padding: 0;\n",
              "    width: 32px;\n",
              "  }\n",
              "\n",
              "  .colab-df-quickchart:hover {\n",
              "    background-color: var(--hover-bg-color);\n",
              "    box-shadow: 0 1px 2px rgba(60, 64, 67, 0.3), 0 1px 3px 1px rgba(60, 64, 67, 0.15);\n",
              "    fill: var(--button-hover-fill-color);\n",
              "  }\n",
              "\n",
              "  .colab-df-quickchart-complete:disabled,\n",
              "  .colab-df-quickchart-complete:disabled:hover {\n",
              "    background-color: var(--disabled-bg-color);\n",
              "    fill: var(--disabled-fill-color);\n",
              "    box-shadow: none;\n",
              "  }\n",
              "\n",
              "  .colab-df-spinner {\n",
              "    border: 2px solid var(--fill-color);\n",
              "    border-color: transparent;\n",
              "    border-bottom-color: var(--fill-color);\n",
              "    animation:\n",
              "      spin 1s steps(1) infinite;\n",
              "  }\n",
              "\n",
              "  @keyframes spin {\n",
              "    0% {\n",
              "      border-color: transparent;\n",
              "      border-bottom-color: var(--fill-color);\n",
              "      border-left-color: var(--fill-color);\n",
              "    }\n",
              "    20% {\n",
              "      border-color: transparent;\n",
              "      border-left-color: var(--fill-color);\n",
              "      border-top-color: var(--fill-color);\n",
              "    }\n",
              "    30% {\n",
              "      border-color: transparent;\n",
              "      border-left-color: var(--fill-color);\n",
              "      border-top-color: var(--fill-color);\n",
              "      border-right-color: var(--fill-color);\n",
              "    }\n",
              "    40% {\n",
              "      border-color: transparent;\n",
              "      border-right-color: var(--fill-color);\n",
              "      border-top-color: var(--fill-color);\n",
              "    }\n",
              "    60% {\n",
              "      border-color: transparent;\n",
              "      border-right-color: var(--fill-color);\n",
              "    }\n",
              "    80% {\n",
              "      border-color: transparent;\n",
              "      border-right-color: var(--fill-color);\n",
              "      border-bottom-color: var(--fill-color);\n",
              "    }\n",
              "    90% {\n",
              "      border-color: transparent;\n",
              "      border-bottom-color: var(--fill-color);\n",
              "    }\n",
              "  }\n",
              "</style>\n",
              "\n",
              "  <script>\n",
              "    async function quickchart(key) {\n",
              "      const quickchartButtonEl =\n",
              "        document.querySelector('#' + key + ' button');\n",
              "      quickchartButtonEl.disabled = true;  // To prevent multiple clicks.\n",
              "      quickchartButtonEl.classList.add('colab-df-spinner');\n",
              "      try {\n",
              "        const charts = await google.colab.kernel.invokeFunction(\n",
              "            'suggestCharts', [key], {});\n",
              "      } catch (error) {\n",
              "        console.error('Error during call to suggestCharts:', error);\n",
              "      }\n",
              "      quickchartButtonEl.classList.remove('colab-df-spinner');\n",
              "      quickchartButtonEl.classList.add('colab-df-quickchart-complete');\n",
              "    }\n",
              "    (() => {\n",
              "      let quickchartButtonEl =\n",
              "        document.querySelector('#df-4e7c81af-de41-47f9-adee-be829850c27e button');\n",
              "      quickchartButtonEl.style.display =\n",
              "        google.colab.kernel.accessAllowed ? 'block' : 'none';\n",
              "    })();\n",
              "  </script>\n",
              "</div>\n",
              "\n",
              "  <div id=\"id_527406e3-2e2d-41f1-b33c-0a33a1f35271\">\n",
              "    <style>\n",
              "      .colab-df-generate {\n",
              "        background-color: #E8F0FE;\n",
              "        border: none;\n",
              "        border-radius: 50%;\n",
              "        cursor: pointer;\n",
              "        display: none;\n",
              "        fill: #1967D2;\n",
              "        height: 32px;\n",
              "        padding: 0 0 0 0;\n",
              "        width: 32px;\n",
              "      }\n",
              "\n",
              "      .colab-df-generate:hover {\n",
              "        background-color: #E2EBFA;\n",
              "        box-shadow: 0px 1px 2px rgba(60, 64, 67, 0.3), 0px 1px 3px 1px rgba(60, 64, 67, 0.15);\n",
              "        fill: #174EA6;\n",
              "      }\n",
              "\n",
              "      [theme=dark] .colab-df-generate {\n",
              "        background-color: #3B4455;\n",
              "        fill: #D2E3FC;\n",
              "      }\n",
              "\n",
              "      [theme=dark] .colab-df-generate:hover {\n",
              "        background-color: #434B5C;\n",
              "        box-shadow: 0px 1px 3px 1px rgba(0, 0, 0, 0.15);\n",
              "        filter: drop-shadow(0px 1px 2px rgba(0, 0, 0, 0.3));\n",
              "        fill: #FFFFFF;\n",
              "      }\n",
              "    </style>\n",
              "    <button class=\"colab-df-generate\" onclick=\"generateWithVariable('df2')\"\n",
              "            title=\"Generate code using this dataframe.\"\n",
              "            style=\"display:none;\">\n",
              "\n",
              "  <svg xmlns=\"http://www.w3.org/2000/svg\" height=\"24px\"viewBox=\"0 0 24 24\"\n",
              "       width=\"24px\">\n",
              "    <path d=\"M7,19H8.4L18.45,9,17,7.55,7,17.6ZM5,21V16.75L18.45,3.32a2,2,0,0,1,2.83,0l1.4,1.43a1.91,1.91,0,0,1,.58,1.4,1.91,1.91,0,0,1-.58,1.4L9.25,21ZM18.45,9,17,7.55Zm-12,3A5.31,5.31,0,0,0,4.9,8.1,5.31,5.31,0,0,0,1,6.5,5.31,5.31,0,0,0,4.9,4.9,5.31,5.31,0,0,0,6.5,1,5.31,5.31,0,0,0,8.1,4.9,5.31,5.31,0,0,0,12,6.5,5.46,5.46,0,0,0,6.5,12Z\"/>\n",
              "  </svg>\n",
              "    </button>\n",
              "    <script>\n",
              "      (() => {\n",
              "      const buttonEl =\n",
              "        document.querySelector('#id_527406e3-2e2d-41f1-b33c-0a33a1f35271 button.colab-df-generate');\n",
              "      buttonEl.style.display =\n",
              "        google.colab.kernel.accessAllowed ? 'block' : 'none';\n",
              "\n",
              "      buttonEl.onclick = () => {\n",
              "        google.colab.notebook.generateWithVariable('df2');\n",
              "      }\n",
              "      })();\n",
              "    </script>\n",
              "  </div>\n",
              "\n",
              "    </div>\n",
              "  </div>\n"
            ],
            "application/vnd.google.colaboratory.intrinsic+json": {
              "type": "dataframe",
              "variable_name": "df2",
              "summary": "{\n  \"name\": \"df2\",\n  \"rows\": 11,\n  \"fields\": [\n    {\n      \"column\": \"distance_1\",\n      \"properties\": {\n        \"dtype\": \"number\",\n        \"std\": 0.3736586058007104,\n        \"min\": 0.0,\n        \"max\": 1.2657738403730676,\n        \"num_unique_values\": 11,\n        \"samples\": [\n          1.2485666292085091,\n          0.0,\n          1.2645327318996147\n        ],\n        \"semantic_type\": \"\",\n        \"description\": \"\"\n      }\n    },\n    {\n      \"column\": \"distance_2\",\n      \"properties\": {\n        \"dtype\": \"number\",\n        \"std\": 0.4087576192837789,\n        \"min\": 0.0,\n        \"max\": 1.3736780574303464,\n        \"num_unique_values\": 11,\n        \"samples\": [\n          1.3552867751459203,\n          0.0,\n          1.371384796275239\n        ],\n        \"semantic_type\": \"\",\n        \"description\": \"\"\n      }\n    }\n  ]\n}"
            }
          },
          "metadata": {},
          "execution_count": 43
        }
      ]
    }
  ]
}