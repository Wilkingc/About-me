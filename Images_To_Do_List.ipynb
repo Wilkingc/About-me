{
  "cells": [
    {
      "cell_type": "markdown",
      "metadata": {
        "id": "view-in-github",
        "colab_type": "text"
      },
      "source": [
        "<a href=\"https://colab.research.google.com/github/Wilkingc/About-me/blob/main/Images_To_Do_List.ipynb\" target=\"_parent\"><img src=\"https://colab.research.google.com/assets/colab-badge.svg\" alt=\"Open In Colab\"/></a>"
      ]
    },
    {
      "cell_type": "markdown",
      "metadata": {
        "id": "Z7IxnO3ZGqlL"
      },
      "source": [
        "# Images – To Do List\n"
      ]
    },
    {
      "cell_type": "markdown",
      "metadata": {
        "id": "09CQVfHpXRMB"
      },
      "source": [
        "\n",
        "Prior to starting this problem, be sure to enable the GPU runtime processing in your Jupyter notebook.\n",
        "\n"
      ]
    },
    {
      "cell_type": "markdown",
      "metadata": {
        "id": "f5PuSqe-H8u5"
      },
      "source": [
        "## Problem Definition\n"
      ]
    },
    {
      "cell_type": "markdown",
      "metadata": {
        "id": "nCOQv4YvXPBE"
      },
      "source": [
        "\n",
        "* Write a concise problem definition for the project. Put it in a text field at the top of your Jupyter notebook.\n",
        "\n",
        "* Load necessary packages.\n",
        "\n"
      ]
    },
    {
      "cell_type": "markdown",
      "metadata": {
        "id": "7WkWYrIiuEL4"
      },
      "source": [
        "## Imports"
      ]
    },
    {
      "cell_type": "code",
      "execution_count": 123,
      "metadata": {
        "id": "ZTGmmJGuJOMW"
      },
      "outputs": [],
      "source": [
        "import pickle\n",
        "import tensorflow.keras as keras\n",
        "import tensorflow as tf\n",
        "import pandas as pd\n",
        "import numpy as np\n",
        "import matplotlib.pyplot as plt\n",
        "from sklearn import datasets\n",
        "from keras.models import Sequential\n",
        "from keras.layers import Dense, Flatten, Conv2D, MaxPooling2D\n",
        "from keras.utils import plot_model\n",
        "from sklearn.model_selection import train_test_split\n",
        "from sklearn.preprocessing import StandardScaler\n",
        "from sklearn.preprocessing import MinMaxScaler"
      ]
    },
    {
      "cell_type": "markdown",
      "metadata": {
        "id": "Ll3rUMEKH_b9"
      },
      "source": [
        "## Data Collection\n"
      ]
    },
    {
      "cell_type": "markdown",
      "metadata": {
        "id": "DaGpv4TcXNpo"
      },
      "source": [
        "\n",
        "* Load pickled data from X.pickle and y.pickle from the AWS S3 bucket.\n",
        "\n"
      ]
    },
    {
      "cell_type": "code",
      "execution_count": 124,
      "metadata": {
        "id": "nQTPStF_JO1N"
      },
      "outputs": [],
      "source": [
        "Xurl = 'https://ddc-datascience.s3.amazonaws.com/Projects/Project.6-Images/Data/X.pickle'"
      ]
    },
    {
      "cell_type": "code",
      "execution_count": 125,
      "metadata": {
        "id": "PEG9hXZLkn1A"
      },
      "outputs": [],
      "source": [
        "Yurl = 'https://ddc-datascience.s3.amazonaws.com/Projects/Project.6-Images/Data/y.pickle'"
      ]
    },
    {
      "cell_type": "code",
      "execution_count": 126,
      "metadata": {
        "id": "rmg9y9Ocue0L"
      },
      "outputs": [],
      "source": [
        "s3 = 'https://ddc-datascience.s3.amazonaws.com/Projects/Project.6-Images/Data/dog.jpg'"
      ]
    },
    {
      "cell_type": "code",
      "execution_count": 127,
      "metadata": {
        "id": "4QfDl-fbufWi"
      },
      "outputs": [],
      "source": [
        "Xdata_load = pd.read_pickle(Xurl)"
      ]
    },
    {
      "cell_type": "code",
      "execution_count": 128,
      "metadata": {
        "id": "CojdhHVxksL2"
      },
      "outputs": [],
      "source": [
        "Ydata_load = pd.read_pickle(Yurl)"
      ]
    },
    {
      "cell_type": "markdown",
      "metadata": {
        "id": "Qv-tmJlyIBrL"
      },
      "source": [
        "## Data Cleaning\n"
      ]
    },
    {
      "cell_type": "markdown",
      "metadata": {
        "id": "DrJ-2JwDXMYk"
      },
      "source": [
        "\n",
        "* Scale the values in X so that they fall between 0 and 1 by dividing by 255.\n",
        "\n"
      ]
    },
    {
      "cell_type": "code",
      "execution_count": 129,
      "metadata": {
        "id": "EzDPOBMLJPnI"
      },
      "outputs": [],
      "source": [
        "Xdf = Xdata_load.copy()\n",
        "Ydf = Ydata_load.copy()\n",
        "Ydf = np.array(Ydf)"
      ]
    },
    {
      "cell_type": "code",
      "execution_count": 130,
      "metadata": {
        "id": "t0GNy8_mi-xu"
      },
      "outputs": [],
      "source": [
        "X = Xdf[:4000]\n",
        "Y = Ydf[:4000]"
      ]
    },
    {
      "cell_type": "code",
      "execution_count": 131,
      "metadata": {
        "id": "dCriM0Uv88ZM"
      },
      "outputs": [],
      "source": [
        "X_scaled = X/255.0"
      ]
    },
    {
      "cell_type": "code",
      "execution_count": 132,
      "metadata": {
        "id": "2LFuu4E3hzy1"
      },
      "outputs": [],
      "source": [
        "# scaler = StandardScaler()\n",
        "# X_scaled = scaler.fit_transform(X.reshape(-1, X.shape[-1])).reshape(X.shape)"
      ]
    },
    {
      "cell_type": "code",
      "execution_count": 133,
      "metadata": {
        "id": "EmN-zNVVooiO"
      },
      "outputs": [],
      "source": [
        "# scaler = MinMaxScaler()\n",
        "\n",
        "# Y_scaled = scaler.fit_transform(Y.reshape(-1, Y.shape[-1])).reshape(Y.shape)"
      ]
    },
    {
      "cell_type": "markdown",
      "metadata": {
        "id": "UDccpNdgIEHR"
      },
      "source": [
        "## Exploratory Data Analysis\n"
      ]
    },
    {
      "cell_type": "markdown",
      "metadata": {
        "id": "VRCwjqGZXLG6"
      },
      "source": [
        "\n",
        "* Look at the shape of X and y. Ensure that X is 4 dimensional.\n",
        "\n",
        "* Plot a few ( >5 ) of the images in X using plt.imshow().\n",
        "\n",
        "* Look at the response values in y for those images.\n",
        "\n",
        "* Hint: you may want to start with a random subset to get familiar with the process of building a NN.  Then go through the process again with the full set.\n",
        "\n"
      ]
    },
    {
      "cell_type": "markdown",
      "metadata": {
        "id": "IHUKjeIUgjvY"
      },
      "source": [
        "### X Values"
      ]
    },
    {
      "cell_type": "code",
      "execution_count": 134,
      "metadata": {
        "colab": {
          "base_uri": "https://localhost:8080/"
        },
        "id": "JP2pJKMBJQhk",
        "outputId": "088e2d2c-9931-4b13-8b28-ce053e45e255"
      },
      "outputs": [
        {
          "output_type": "execute_result",
          "data": {
            "text/plain": [
              "((4000, 100, 100, 1), (4000,))"
            ]
          },
          "metadata": {},
          "execution_count": 134
        }
      ],
      "source": [
        "X_scaled.shape, Y.shape"
      ]
    },
    {
      "cell_type": "code",
      "execution_count": 135,
      "metadata": {
        "colab": {
          "base_uri": "https://localhost:8080/",
          "height": 433
        },
        "collapsed": true,
        "id": "mLrKmkb6GOk5",
        "outputId": "9623b92d-f447-43f4-dbe9-c6d5b8bd2e43"
      },
      "outputs": [
        {
          "output_type": "display_data",
          "data": {
            "text/plain": [
              "<Figure size 640x480 with 1 Axes>"
            ],
            "image/png": "[encoded data removed]"
          },
          "metadata": {}
        }
      ],
      "source": [
        "plt.imshow(X_scaled[66,:,:,0],cmap = plt.cm.gray_r )\n",
        "plt.show()"
      ]
    },
    {
      "cell_type": "markdown",
      "metadata": {
        "id": "ONRmzgpFgnh0"
      },
      "source": [
        "### Y Values"
      ]
    },
    {
      "cell_type": "code",
      "execution_count": 136,
      "metadata": {
        "colab": {
          "base_uri": "https://localhost:8080/"
        },
        "id": "XL6omlF6gnPb",
        "outputId": "5f801c08-a607-45c2-f24e-616b71d37b84"
      },
      "outputs": [
        {
          "output_type": "execute_result",
          "data": {
            "text/plain": [
              "1"
            ]
          },
          "metadata": {},
          "execution_count": 136
        }
      ],
      "source": [
        "Y[66] # 0 = dog and 1 = cats"
      ]
    },
    {
      "cell_type": "markdown",
      "metadata": {
        "id": "1swvVYT3IGoH"
      },
      "source": [
        "## Data Processing\n"
      ]
    },
    {
      "cell_type": "markdown",
      "metadata": {
        "id": "-MRKZ22_XI90"
      },
      "source": [
        "\n",
        "* Split X and y into training and testing sets.\n",
        "\n",
        "*  Build a convolutional neural network with the following:\n",
        "  * Sequential layers\n",
        "  * At least two 2D convolutional layers using the 'relu' activation function and a (3,3) kernel size.\n",
        "  * A MaxPooling2D layer after each 2D convolutional layer that has a pool size of (2,2).\n",
        "  * A dense output layer using the 'sigmoid' activation function.\n",
        "  Note: you can play around with the number of layers and nodes to try to get better performance.\n",
        "\n",
        "* Compile your model. Use the 'adam' optimizer. Determine which loss function and metric is most appropriate for this problem.\n",
        "\n",
        "* Fit your model using the training set.\n",
        "\n",
        "* Evaluate your model using the testing set.\n",
        "\n",
        "* Plot the distribution of probabilities for the testing set.\n",
        "\n",
        "* Define a function that will read in a new image and convert it to a 4 dimensional array of pixels (ask the instructor for help with this). Hint: [numpy.reshape]( https://numpy.org/doc/stable/reference/generated/numpy.reshape.html )\n",
        "\n",
        "* Use the function defined above to read in the dog.jpg image that is saved in the AWS S3 bucket.\n",
        "\n",
        "* Use the neural network you created to predict whether the image is a dog or a cat.\n",
        "\n"
      ]
    },
    {
      "cell_type": "code",
      "execution_count": 137,
      "metadata": {
        "id": "FU2fm8KtJRbW"
      },
      "outputs": [],
      "source": [
        "# Split the data up in train and test sets\n",
        "X_train, X_test, y_train, y_test = train_test_split(X_scaled, Y, test_size=0.25, random_state=42)"
      ]
    },
    {
      "cell_type": "code",
      "execution_count": 138,
      "metadata": {
        "colab": {
          "base_uri": "https://localhost:8080/"
        },
        "id": "efYxVJENyvmL",
        "outputId": "2d0b45fd-3184-4d24-a97f-e742d5ab9d56"
      },
      "outputs": [
        {
          "output_type": "execute_result",
          "data": {
            "text/plain": [
              "((3000, 100, 100, 1), (1000, 100, 100, 1), (3000,), (1000,))"
            ]
          },
          "metadata": {},
          "execution_count": 138
        }
      ],
      "source": [
        "X_train.shape, X_test.shape,  y_train.shape , y_test.shape"
      ]
    },
    {
      "cell_type": "code",
      "source": [],
      "metadata": {
        "id": "UawfKuBYlYBK"
      },
      "execution_count": 138,
      "outputs": []
    },
    {
      "cell_type": "code",
      "execution_count": 139,
      "metadata": {
        "id": "AXm5-Cpdsix_"
      },
      "outputs": [],
      "source": [
        "# model = Sequential()"
      ]
    },
    {
      "cell_type": "code",
      "execution_count": 140,
      "metadata": {
        "colab": {
          "base_uri": "https://localhost:8080/"
        },
        "id": "fdbqb0r4GJuQ",
        "outputId": "4ffe704e-45f5-43e9-d338-d360cc2009da"
      },
      "outputs": [
        {
          "output_type": "stream",
          "name": "stderr",
          "text": [
            "/usr/local/lib/python3.10/dist-packages/keras/src/layers/convolutional/base_conv.py:107: UserWarning: Do not pass an `input_shape`/`input_dim` argument to a layer. When using Sequential models, prefer using an `Input(shape)` object as the first layer in the model instead.\n",
            "  super().__init__(activity_regularizer=activity_regularizer, **kwargs)\n"
          ]
        }
      ],
      "source": [
        "model = Sequential()\n",
        "\n",
        "model.add(\n",
        "  Conv2D(name = \"input\",input_shape = X_train.shape[1:],\n",
        "         filters = 32, kernel_size = (3,3),padding = 'valid',\n",
        "    activation = 'relu',\n",
        "  )\n",
        ")\n",
        "\n",
        "model.add(\n",
        "    MaxPooling2D(pool_size=(2,2))\n",
        ")\n",
        "\n",
        "# Define second hidden layer\n",
        "model.add(\n",
        "  Conv2D(filters = 64, kernel_size = (3,3),padding = 'valid', activation = 'relu',\n",
        "  )\n",
        ")\n",
        "\n",
        "model.add(\n",
        "  MaxPooling2D(pool_size=(2,2))\n",
        ")\n",
        "\n",
        "\n",
        "model.add(\n",
        "  Conv2D(filters = 128, kernel_size = (3,3),padding = 'valid', activation = 'relu',\n",
        "  )\n",
        ")\n",
        "\n",
        "model.add(\n",
        "  MaxPooling2D(pool_size=(2,2))\n",
        ")\n",
        "\n",
        "\n",
        "\n",
        "model.add( Flatten()\n",
        ")\n",
        "\n",
        "# Define output layer\n",
        "model.add(\n",
        "  Dense(name = \"output\",units = 1,activation = 'sigmoid',\n",
        "  )\n",
        ")\n",
        "\n",
        "# Compile model\n",
        "model.compile(\n",
        "  optimizer = 'adam',\n",
        "  loss = 'binary_crossentropy',\n",
        "  metrics = ['accuracy'],\n",
        ")\n"
      ]
    },
    {
      "cell_type": "markdown",
      "metadata": {
        "id": "4PdR23y7wjnr"
      },
      "source": [
        "### Fit model"
      ]
    },
    {
      "cell_type": "code",
      "execution_count": 141,
      "metadata": {
        "colab": {
          "base_uri": "https://localhost:8080/"
        },
        "id": "yYJH7OTZG3uz",
        "outputId": "c8477cb0-6c13-4175-d0c7-9f26a030033b"
      },
      "outputs": [
        {
          "output_type": "execute_result",
          "data": {
            "text/plain": [
              "((3000, 100, 100, 1), (3000,))"
            ]
          },
          "metadata": {},
          "execution_count": 141
        }
      ],
      "source": [
        "X_train.shape, y_train.shape"
      ]
    },
    {
      "cell_type": "code",
      "execution_count": null,
      "metadata": {
        "colab": {
          "base_uri": "https://localhost:8080/"
        },
        "collapsed": true,
        "id": "dA_hxFlOwmEG",
        "outputId": "562e979b-bde7-43a1-f3dd-c64533c74b2a"
      },
      "outputs": [
        {
          "output_type": "stream",
          "name": "stdout",
          "text": [
            "Epoch 1/12\n",
            "\u001b[1m94/94\u001b[0m \u001b[32m━━━━━━━━━━━━━━━━━━━━\u001b[0m\u001b[37m\u001b[0m \u001b[1m81s\u001b[0m 575ms/step - accuracy: 0.5312 - loss: 0.6900\n",
            "Epoch 2/12\n",
            "\u001b[1m94/94\u001b[0m \u001b[32m━━━━━━━━━━━━━━━━━━━━\u001b[0m\u001b[37m\u001b[0m \u001b[1m79s\u001b[0m 543ms/step - accuracy: 0.5926 - loss: 0.6761\n",
            "Epoch 3/12\n"
          ]
        }
      ],
      "source": [
        "# Fit model using training data\n",
        "model.fit(X_train, y_train, epochs=12) ;"
      ]
    },
    {
      "cell_type": "code",
      "execution_count": null,
      "metadata": {
        "id": "KGKc6CHQl8Jb"
      },
      "outputs": [],
      "source": [
        "model.summary()"
      ]
    },
    {
      "cell_type": "markdown",
      "metadata": {
        "id": "A8ClgcY4mzBe"
      },
      "source": [
        "#### Testing the model with testing set"
      ]
    },
    {
      "cell_type": "code",
      "execution_count": null,
      "metadata": {
        "id": "ECv4VWFWliKR"
      },
      "outputs": [],
      "source": [
        "loss, accuracy = model.evaluate(X_test, y_test)\n",
        "print(accuracy)\n",
        "print(loss)"
      ]
    },
    {
      "cell_type": "code",
      "source": [
        "plt.plot(history.history['accuracy'], color = 'red', label = 'trian')\n",
        "plt.plot(history.history['val_loss'], color = 'red', label = 'loss')\n",
        "plt.legend()\n",
        "plt.show()"
      ],
      "metadata": {
        "id": "O7BAzBcZw7Nv"
      },
      "execution_count": null,
      "outputs": []
    },
    {
      "cell_type": "markdown",
      "metadata": {
        "id": "Fv0QNIj_g3fO"
      },
      "source": [
        "### Function to 4D"
      ]
    },
    {
      "cell_type": "code",
      "execution_count": null,
      "metadata": {
        "id": "snHPdNPR-Z0Q"
      },
      "outputs": [],
      "source": [
        "import glob\n",
        "import os\n",
        "import re\n",
        "import json\n",
        "import cv2\n",
        "import requests\n",
        "import io\n",
        "\n",
        "from PIL import Image\n",
        "from shapely.geometry import Point\n"
      ]
    },
    {
      "cell_type": "code",
      "execution_count": null,
      "metadata": {
        "id": "s4LEYoP-gdm4"
      },
      "outputs": [],
      "source": [
        "def image4d (url):\n",
        "    response = requests.get(url, stream=True)\n",
        "    img = Image.open(io.BytesIO(response.content)).convert('L')\n",
        "    img = np.array(img)\n",
        "    # photo = img.reshape( img.shape + (1,) )\n",
        "    return img"
      ]
    },
    {
      "cell_type": "code",
      "execution_count": null,
      "metadata": {
        "collapsed": true,
        "id": "LefzeB0JiqoX"
      },
      "outputs": [],
      "source": [
        "doggy = image4d(s3)"
      ]
    },
    {
      "cell_type": "code",
      "execution_count": null,
      "metadata": {
        "id": "WlrkZol9Nm57"
      },
      "outputs": [],
      "source": [
        "# Assuming 'image' is your 3D NumPy array (355, 300, 3)\n",
        "resized_image = cv2.resize(doggy, (100, 100))\n",
        "\n",
        "# Reshape to 4D with a batch dimension of 1\n",
        "#resized_image = resized_image[np.newaxis, ...]\n",
        "final = resized_image.reshape(1, 100, 100, 1 )\n",
        "\n",
        "print(final.shape)  # Output: (1, 100, 100, 3)"
      ]
    },
    {
      "cell_type": "code",
      "execution_count": null,
      "metadata": {
        "collapsed": true,
        "id": "Xa0LEA-ATIpI"
      },
      "outputs": [],
      "source": [
        "plt.imshow(final[0])\n",
        "plt.show()"
      ]
    },
    {
      "cell_type": "code",
      "execution_count": null,
      "metadata": {
        "id": "zctYwQCI_DFi"
      },
      "outputs": [],
      "source": [
        "model.predict(final)"
      ]
    },
    {
      "cell_type": "markdown",
      "metadata": {
        "id": "WgIyFeFxYMHj"
      },
      "source": [
        "## Dog / Cat prediction"
      ]
    },
    {
      "cell_type": "code",
      "execution_count": null,
      "metadata": {
        "id": "kJsAIfOjwzFL"
      },
      "outputs": [],
      "source": [
        "plt.imshow(final[0])\n",
        "plt.show()\n",
        "\n",
        "predictions = model.predict(final)\n",
        "# predictions = predictions > 0.5\n",
        "\n",
        "if (predictions == 0):\n",
        "  pred = 'dog'\n",
        "else:\n",
        "  pred = 'cat'\n",
        "\n",
        "print(\"Our model predict this image to be a: \", pred)"
      ]
    },
    {
      "cell_type": "code",
      "execution_count": null,
      "metadata": {
        "id": "wIyrpk8Ut1hh"
      },
      "outputs": [],
      "source": []
    },
    {
      "cell_type": "markdown",
      "metadata": {
        "id": "tT_-Jy7ZIJ3t"
      },
      "source": [
        "## Communication of Results\n"
      ]
    },
    {
      "cell_type": "markdown",
      "metadata": {
        "id": "MzKXfsuvXX7T"
      },
      "source": [
        "\n",
        "* Communicate the results of your analysis.\n",
        "\n"
      ]
    },
    {
      "cell_type": "markdown",
      "metadata": {
        "id": "ztu8gpNSILmj"
      },
      "source": [
        "## **BONUS** (optional)\n"
      ]
    },
    {
      "cell_type": "markdown",
      "metadata": {
        "id": "DjGDKT60XY-G"
      },
      "source": [
        "\n",
        "* Upload an image of your (or your friend's or family's) dog or cat and use your model to predict whether the image is a dog or cat.\n",
        "* Hint: you'll probably need to convert the image from color to grayscale.  OpenCV, pillow, and other libraries are your friend."
      ]
    },
    {
      "cell_type": "code",
      "execution_count": null,
      "metadata": {
        "id": "PgFhabxvzCYK"
      },
      "outputs": [],
      "source": [
        "from google.colab import drive\n",
        "drive.mount('/content/drive')"
      ]
    },
    {
      "cell_type": "code",
      "execution_count": null,
      "metadata": {
        "id": "AUYm8Eu6y-il"
      },
      "outputs": [],
      "source": [
        "pics = '/content/drive/MyDrive/Deep Learning/cat 1.jpg'"
      ]
    },
    {
      "cell_type": "code",
      "execution_count": null,
      "metadata": {
        "id": "zOMNJ9ZyHWTD"
      },
      "outputs": [],
      "source": [
        "def bonus(filepath):\n",
        "    IMG_SIZE = 100\n",
        "    img_array = cv2.imread(filepath, cv2.IMREAD_GRAYSCALE)\n",
        "    new_array = cv2.resize(img_array, (IMG_SIZE, IMG_SIZE))\n",
        "    return new_array.reshape(-1, IMG_SIZE, IMG_SIZE, 1)"
      ]
    },
    {
      "cell_type": "code",
      "execution_count": null,
      "metadata": {
        "id": "se5J3i-JzqG6"
      },
      "outputs": [],
      "source": [
        "cat = bonus(pics)"
      ]
    },
    {
      "cell_type": "code",
      "execution_count": null,
      "metadata": {
        "id": "s20UjIWx7FRa"
      },
      "outputs": [],
      "source": [
        "type(cat), type(final)"
      ]
    },
    {
      "cell_type": "code",
      "execution_count": null,
      "metadata": {
        "id": "nobeBy-r0Owm"
      },
      "outputs": [],
      "source": [
        "plt.imshow(cat[0])\n",
        "plt.show()\n",
        "\n",
        "prediction = model.predict(cat)\n",
        "# prediction = prediction > 0.5\n",
        "\n",
        "if (predictions == 0):\n",
        "  pred = 'dog'\n",
        "else:\n",
        "  pred = 'cat'\n",
        "\n",
        "print(\"Our model predict this image to be a: \", pred)"
      ]
    },
    {
      "cell_type": "code",
      "execution_count": null,
      "metadata": {
        "id": "JM6je45rAXrB"
      },
      "outputs": [],
      "source": [
        "cat[0].shape"
      ]
    },
    {
      "cell_type": "code",
      "execution_count": null,
      "metadata": {
        "id": "U3IjsqSJ1fh1"
      },
      "outputs": [],
      "source": [
        "# class_pred = (prediction > 0.5).astype(\"int32\")\n",
        "# class_pred"
      ]
    }
  ],
  "metadata": {
    "colab": {
      "provenance": [],
      "include_colab_link": true
    },
    "kernelspec": {
      "display_name": "Python 3",
      "name": "python3"
    },
    "language_info": {
      "name": "python"
    }
  },
  "nbformat": 4,
  "nbformat_minor": 0
}